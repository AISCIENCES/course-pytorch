{
  "cells": [
    {
      "cell_type": "markdown",
      "metadata": {
        "id": "9GRqnk1aKC7J"
      },
      "source": [
        "# **Arithmetic Operations**"
      ]
    },
    {
      "cell_type": "code",
      "execution_count": null,
      "metadata": {
        "id": "mFRwYAMdZSvx"
      },
      "outputs": [],
      "source": [
        "import torch\n",
        "import numpy as np"
      ]
    },
    {
      "cell_type": "code",
      "execution_count": null,
      "metadata": {
        "id": "2MApPsu4Ci-m"
      },
      "outputs": [],
      "source": [
        "a = torch.tensor([1,2,3,4])\n",
        "b = torch.tensor([5,6,7,8])"
      ]
    },
    {
      "cell_type": "code",
      "execution_count": null,
      "metadata": {
        "colab": {
          "base_uri": "https://localhost:8080/"
        },
        "id": "a8RAYNPvCyTz",
        "outputId": "8e1b75db-2ad0-4b9a-fc9f-7d8945beae38"
      },
      "outputs": [
        {
          "data": {
            "text/plain": [
              "tensor([ 6,  8, 10, 12])"
            ]
          },
          "execution_count": 43,
          "metadata": {},
          "output_type": "execute_result"
        }
      ],
      "source": [
        "# Addition\n",
        "a+b\n",
        "torch.add(a, b)\n",
        "a.add(b)"
      ]
    },
    {
      "cell_type": "code",
      "execution_count": null,
      "metadata": {
        "colab": {
          "base_uri": "https://localhost:8080/"
        },
        "id": "9hTqm2YBGcA-",
        "outputId": "e0dca3ae-9aae-4ed5-8e17-0317aeb681e1"
      },
      "outputs": [
        {
          "data": {
            "text/plain": [
              "tensor([ 6,  8, 10, 12])"
            ]
          },
          "execution_count": 46,
          "metadata": {},
          "output_type": "execute_result"
        }
      ],
      "source": [
        "a = a+b\n",
        "a"
      ]
    },
    {
      "cell_type": "code",
      "execution_count": null,
      "metadata": {
        "colab": {
          "base_uri": "https://localhost:8080/"
        },
        "id": "tNtNS01VGl0f",
        "outputId": "9bfb47e8-3c6e-46f2-a099-852730599d26"
      },
      "outputs": [
        {
          "data": {
            "text/plain": [
              "tensor([16, 20, 24, 28])"
            ]
          },
          "execution_count": 49,
          "metadata": {},
          "output_type": "execute_result"
        }
      ],
      "source": [
        "a.add_(b)\n",
        "a.add_(b)\n",
        "a"
      ]
    },
    {
      "cell_type": "code",
      "execution_count": null,
      "metadata": {
        "colab": {
          "base_uri": "https://localhost:8080/"
        },
        "id": "gxzueTe_G4F1",
        "outputId": "0187fdd2-24b7-4228-9b2e-f52863521c6b"
      },
      "outputs": [
        {
          "data": {
            "text/plain": [
              "tensor([5, 6, 7, 8])"
            ]
          },
          "execution_count": 50,
          "metadata": {},
          "output_type": "execute_result"
        }
      ],
      "source": [
        "b"
      ]
    },
    {
      "cell_type": "code",
      "execution_count": null,
      "metadata": {
        "colab": {
          "base_uri": "https://localhost:8080/"
        },
        "id": "grOf236IG78I",
        "outputId": "4d273040-0fcf-4224-e166-2e67c112d05a"
      },
      "outputs": [
        {
          "data": {
            "text/plain": [
              "tensor([ 4, 34, 14,  4])"
            ]
          },
          "execution_count": 57,
          "metadata": {},
          "output_type": "execute_result"
        }
      ],
      "source": [
        "a = torch.tensor([1,2,3,4])\n",
        "b = torch.tensor([5,36,17,8])\n",
        "#Subtraction\n",
        "# b-a\n",
        "# torch.sub(a, b)\n",
        "# b.sub(a)\n",
        "b.sub_(a)\n",
        "b"
      ]
    },
    {
      "cell_type": "code",
      "execution_count": null,
      "metadata": {
        "colab": {
          "base_uri": "https://localhost:8080/"
        },
        "id": "8qRfpIohG75T",
        "outputId": "3a8b9213-714e-466c-841f-d1b4edfbcc37"
      },
      "outputs": [
        {
          "data": {
            "text/plain": [
              "tensor([ 5, 12, 21, 32])"
            ]
          },
          "execution_count": 62,
          "metadata": {},
          "output_type": "execute_result"
        }
      ],
      "source": [
        "#Multiplication\n",
        "a = torch.tensor([1,2,3,4])\n",
        "b = torch.tensor([5,6,7,8])\n",
        "# a*b\n",
        "# torch.mul(a, b)\n",
        "# a.mul(b)\n",
        "b.mul_(a)\n",
        "b"
      ]
    },
    {
      "cell_type": "code",
      "execution_count": null,
      "metadata": {
        "colab": {
          "base_uri": "https://localhost:8080/"
        },
        "id": "X3gjFBRyG72F",
        "outputId": "ccbc8ec4-b5fb-49b4-80db-143ced2b3088"
      },
      "outputs": [
        {
          "data": {
            "text/plain": [
              "tensor([5.0000, 3.0000, 2.3333, 2.0000])"
            ]
          },
          "execution_count": 69,
          "metadata": {},
          "output_type": "execute_result"
        }
      ],
      "source": [
        "#Division\n",
        "a = torch.tensor([1,2,3,4])\n",
        "b = torch.tensor([5,6,7,8], dtype=torch.float32)\n",
        "# a/b\n",
        "# torch.div(a, b)\n",
        "# b.div(a)\n",
        "b.div_(a)\n",
        "b"
      ]
    },
    {
      "cell_type": "code",
      "execution_count": null,
      "metadata": {
        "colab": {
          "base_uri": "https://localhost:8080/"
        },
        "id": "Wvf7XLZ-G7zO",
        "outputId": "10fbbadf-3efe-4d14-b1dc-a18677d977dd"
      },
      "outputs": [
        {
          "data": {
            "text/plain": [
              "tensor([    1,    64,  2187, 65536])"
            ]
          },
          "execution_count": 70,
          "metadata": {},
          "output_type": "execute_result"
        }
      ],
      "source": [
        "#Power/Exp\n",
        "a = torch.tensor([1,2,3,4])\n",
        "b = torch.tensor([5,6,7,8])\n",
        "a**b\n",
        "# torch.pow(a, b)\n",
        "# a.pow(b)\n",
        "# b.pow_(a)\n",
        "# b"
      ]
    },
    {
      "cell_type": "code",
      "execution_count": null,
      "metadata": {
        "colab": {
          "base_uri": "https://localhost:8080/"
        },
        "id": "Cu3SCjnbG7wF",
        "outputId": "96a755e1-3aec-476d-b257-35a5119e55b8"
      },
      "outputs": [
        {
          "data": {
            "text/plain": [
              "tensor([1, 2, 3, 4])"
            ]
          },
          "execution_count": 71,
          "metadata": {},
          "output_type": "execute_result"
        }
      ],
      "source": [
        "#Remainder\n",
        "a = torch.tensor([1,2,3,4])\n",
        "b = torch.tensor([5,6,7,8])\n",
        "a%b\n",
        "# torch.remainder(a, b)\n",
        "# a.remainder(b)\n",
        "# b.remainder_(a)\n",
        "# b"
      ]
    },
    {
      "cell_type": "code",
      "execution_count": null,
      "metadata": {
        "id": "hBSoLJOJG7tM"
      },
      "outputs": [],
      "source": []
    },
    {
      "cell_type": "markdown",
      "metadata": {
        "id": "-vi5Xf9GKSDw"
      },
      "source": [
        "# **Tensor Ops**"
      ]
    },
    {
      "cell_type": "code",
      "execution_count": null,
      "metadata": {
        "colab": {
          "base_uri": "https://localhost:8080/"
        },
        "id": "VVVh8FKEKBgT",
        "outputId": "c26374d7-357b-4341-f1c9-30c2e3d26f2b"
      },
      "outputs": [
        {
          "data": {
            "text/plain": [
              "tensor([[[0., 0., 0.],\n",
              "         [0., 0., 0.],\n",
              "         [0., 0., 0.],\n",
              "         [0., 0., 0.],\n",
              "         [0., 0., 0.]],\n",
              "\n",
              "        [[0., 0., 0.],\n",
              "         [0., 0., 0.],\n",
              "         [0., 0., 0.],\n",
              "         [0., 0., 0.],\n",
              "         [0., 0., 0.]]])"
            ]
          },
          "execution_count": 81,
          "metadata": {},
          "output_type": "execute_result"
        }
      ],
      "source": [
        "torch.zeros(2,5,3)"
      ]
    },
    {
      "cell_type": "code",
      "execution_count": null,
      "metadata": {
        "colab": {
          "base_uri": "https://localhost:8080/"
        },
        "id": "J0rGOHtpKBe-",
        "outputId": "b0d9db98-f800-4c33-ba23-e9756902f416"
      },
      "outputs": [
        {
          "data": {
            "text/plain": [
              "tensor([[1., 1., 1., 1.],\n",
              "        [1., 1., 1., 1.]])"
            ]
          },
          "execution_count": 83,
          "metadata": {},
          "output_type": "execute_result"
        }
      ],
      "source": [
        "ones = torch.ones(2,4)\n",
        "ones"
      ]
    },
    {
      "cell_type": "code",
      "execution_count": null,
      "metadata": {
        "colab": {
          "base_uri": "https://localhost:8080/"
        },
        "id": "3-LLmfs6KBab",
        "outputId": "43581d07-d754-4391-a0bd-d3677776ab52"
      },
      "outputs": [
        {
          "data": {
            "text/plain": [
              "torch.Size([2, 4])"
            ]
          },
          "execution_count": 84,
          "metadata": {},
          "output_type": "execute_result"
        }
      ],
      "source": [
        "ones.size()"
      ]
    },
    {
      "cell_type": "code",
      "execution_count": null,
      "metadata": {
        "colab": {
          "base_uri": "https://localhost:8080/"
        },
        "id": "WbIyFOqTKBZC",
        "outputId": "19d3ba45-63c5-4c68-cdc9-c5a1f96fe4b4"
      },
      "outputs": [
        {
          "data": {
            "text/plain": [
              "torch.float32"
            ]
          },
          "execution_count": 85,
          "metadata": {},
          "output_type": "execute_result"
        }
      ],
      "source": [
        "ones.dtype"
      ]
    },
    {
      "cell_type": "code",
      "execution_count": null,
      "metadata": {
        "colab": {
          "base_uri": "https://localhost:8080/"
        },
        "id": "OBH1TKsOKBU-",
        "outputId": "de3a902e-5b32-497c-8467-5d5e091dd01c"
      },
      "outputs": [
        {
          "data": {
            "text/plain": [
              "4294967296"
            ]
          },
          "execution_count": 86,
          "metadata": {},
          "output_type": "execute_result"
        }
      ],
      "source": [
        "2**32"
      ]
    },
    {
      "cell_type": "code",
      "execution_count": null,
      "metadata": {
        "colab": {
          "base_uri": "https://localhost:8080/"
        },
        "id": "OCz9F45EKBTx",
        "outputId": "daea58ae-55ef-4b20-a693-eb69a2c0e9bb"
      },
      "outputs": [
        {
          "data": {
            "text/plain": [
              "tensor([[1., 1., 1.],\n",
              "        [1., 1., 1.]], dtype=torch.float64)"
            ]
          },
          "execution_count": 87,
          "metadata": {},
          "output_type": "execute_result"
        }
      ],
      "source": [
        "large_ones = torch.ones(2,3, dtype=torch.float64)\n",
        "large_ones"
      ]
    },
    {
      "cell_type": "code",
      "execution_count": null,
      "metadata": {
        "colab": {
          "base_uri": "https://localhost:8080/"
        },
        "id": "qyrsLWPuKBPE",
        "outputId": "50b6e342-7715-47e6-9bb3-cb0bdd267f09"
      },
      "outputs": [
        {
          "data": {
            "text/plain": [
              "tensor([[0.6429, 0.9708, 0.1673],\n",
              "        [0.8610, 0.7731, 0.9792]])"
            ]
          },
          "execution_count": 88,
          "metadata": {},
          "output_type": "execute_result"
        }
      ],
      "source": [
        "torch.rand(2,3)"
      ]
    },
    {
      "cell_type": "code",
      "execution_count": null,
      "metadata": {
        "colab": {
          "base_uri": "https://localhost:8080/"
        },
        "id": "tyPNmkv5KBNy",
        "outputId": "f308f578-e0ad-4173-9626-f4a31e6b2256"
      },
      "outputs": [
        {
          "data": {
            "text/plain": [
              "tensor([[6, 5, 8],\n",
              "        [7, 6, 6],\n",
              "        [5, 5, 7],\n",
              "        [9, 9, 9],\n",
              "        [7, 9, 7]])"
            ]
          },
          "execution_count": 91,
          "metadata": {},
          "output_type": "execute_result"
        }
      ],
      "source": [
        "torch.randint(5, 10, (5,3))"
      ]
    },
    {
      "cell_type": "code",
      "execution_count": null,
      "metadata": {
        "colab": {
          "base_uri": "https://localhost:8080/"
        },
        "id": "fOA9dzYwKBJR",
        "outputId": "ea1c3142-d906-4f93-8caf-82f08718ad94"
      },
      "outputs": [
        {
          "data": {
            "text/plain": [
              "tensor([[5, 8, 5, 8],\n",
              "        [7, 5, 9, 6],\n",
              "        [5, 9, 8, 8],\n",
              "        [9, 7, 7, 5]])"
            ]
          },
          "execution_count": 94,
          "metadata": {},
          "output_type": "execute_result"
        }
      ],
      "source": [
        "t = torch.randint(5, 10, (4,4))\n",
        "t"
      ]
    },
    {
      "cell_type": "code",
      "execution_count": null,
      "metadata": {
        "colab": {
          "base_uri": "https://localhost:8080/"
        },
        "id": "XH9f1e8SKBIA",
        "outputId": "67ef5f06-78e4-40a9-8f4d-9806efe5f767"
      },
      "outputs": [
        {
          "data": {
            "text/plain": [
              "tensor([[[5, 8],\n",
              "         [5, 8],\n",
              "         [7, 5],\n",
              "         [9, 6]],\n",
              "\n",
              "        [[5, 9],\n",
              "         [8, 8],\n",
              "         [9, 7],\n",
              "         [7, 5]]])"
            ]
          },
          "execution_count": 99,
          "metadata": {},
          "output_type": "execute_result"
        }
      ],
      "source": [
        "t.reshape(2,4,2)"
      ]
    },
    {
      "cell_type": "code",
      "execution_count": null,
      "metadata": {
        "colab": {
          "base_uri": "https://localhost:8080/"
        },
        "id": "39jjvOenKBDs",
        "outputId": "0be33ca6-9b62-4839-ee87-10c8b19c20a9"
      },
      "outputs": [
        {
          "data": {
            "text/plain": [
              "tensor([[[5, 8],\n",
              "         [5, 8],\n",
              "         [7, 5],\n",
              "         [9, 6]],\n",
              "\n",
              "        [[5, 9],\n",
              "         [8, 8],\n",
              "         [9, 7],\n",
              "         [7, 5]]])"
            ]
          },
          "execution_count": 101,
          "metadata": {},
          "output_type": "execute_result"
        }
      ],
      "source": [
        "t.view(2,4,2)"
      ]
    },
    {
      "cell_type": "markdown",
      "metadata": {
        "id": "zxCy-OE7V9Ze"
      },
      "source": [
        "# **Auto-Grad**"
      ]
    },
    {
      "cell_type": "code",
      "execution_count": null,
      "metadata": {
        "colab": {
          "base_uri": "https://localhost:8080/"
        },
        "id": "p-9HT1gAWDd6",
        "outputId": "40d1048e-c8a9-4c8e-e4f0-203a69b40115"
      },
      "outputs": [
        {
          "name": "stdout",
          "output_type": "stream",
          "text": [
            "tensor([ 1.9994, -1.8071, -0.1153], requires_grad=True)\n",
            "tensor(0.0256, grad_fn=<MeanBackward0>)\n"
          ]
        }
      ],
      "source": [
        "x = torch.randn(3, requires_grad=True)\n",
        "y = x.mean()\n",
        "print(x)\n",
        "print(y)"
      ]
    },
    {
      "cell_type": "code",
      "execution_count": null,
      "metadata": {
        "colab": {
          "base_uri": "https://localhost:8080/"
        },
        "id": "1NVVoqcvWDaV",
        "outputId": "1495f5b0-1339-46d4-f824-75560e13fc28"
      },
      "outputs": [
        {
          "name": "stdout",
          "output_type": "stream",
          "text": [
            "tensor([0.3333, 0.3333, 0.3333])\n"
          ]
        }
      ],
      "source": [
        "y.backward()\n",
        "print(x.grad)"
      ]
    },
    {
      "cell_type": "code",
      "execution_count": null,
      "metadata": {
        "colab": {
          "base_uri": "https://localhost:8080/"
        },
        "id": "muMCYCAAWDXF",
        "outputId": "598267df-0791-49a2-8da4-0d15c0305392"
      },
      "outputs": [
        {
          "name": "stdout",
          "output_type": "stream",
          "text": [
            "tensor([0.3504, 0.3504, 0.3504])\n"
          ]
        }
      ],
      "source": [
        "z = (y**2).mean()\n",
        "z.backward()\n",
        "print(x.grad)"
      ]
    },
    {
      "cell_type": "code",
      "execution_count": null,
      "metadata": {
        "id": "Q_bmN-lxWDTJ"
      },
      "outputs": [],
      "source": []
    },
    {
      "cell_type": "code",
      "execution_count": null,
      "metadata": {
        "colab": {
          "base_uri": "https://localhost:8080/"
        },
        "id": "9XL02C80WDPJ",
        "outputId": "7ebeae31-daa3-44dd-9f64-31bc4b58b373"
      },
      "outputs": [
        {
          "name": "stdout",
          "output_type": "stream",
          "text": [
            "tensor([-0.1204, -1.4839,  0.5621], requires_grad=True)\n",
            "tensor([ 0.9954, -0.1786,  0.4063])\n"
          ]
        }
      ],
      "source": [
        "x = torch.randn(3, requires_grad=True)\n",
        "w = torch.randn(3, requires_grad=True)\n",
        "\n",
        "y = (x*w).sum()\n",
        "\n",
        "y.backward()\n",
        "print(w)\n",
        "print(w.grad)"
      ]
    },
    {
      "cell_type": "markdown",
      "metadata": {
        "id": "JEvBUT-GskVR"
      },
      "source": [
        "# **Detaching Gradiants**"
      ]
    },
    {
      "cell_type": "code",
      "execution_count": null,
      "metadata": {
        "colab": {
          "base_uri": "https://localhost:8080/"
        },
        "id": "L4cYDgGwcvsa",
        "outputId": "b1ebc98d-544d-4409-843a-b74d3f0864fc"
      },
      "outputs": [
        {
          "name": "stdout",
          "output_type": "stream",
          "text": [
            "False\n",
            "None\n",
            "True\n",
            "<SumBackward0 object at 0x7ab6d87a4040>\n",
            "False\n",
            "None\n"
          ]
        }
      ],
      "source": [
        "a = torch.randn(2,3)\n",
        "print(a.requires_grad)\n",
        "b = (a**2).sum()\n",
        "print(b.grad_fn)\n",
        "\n",
        "a.requires_grad_(True)\n",
        "print(a.requires_grad)\n",
        "b = (a**2).sum()\n",
        "print(b.grad_fn)\n",
        "\n",
        "# a.requires_grad_(False)\n",
        "# print(a.requires_grad)\n",
        "\n",
        "a = a.detach()\n",
        "print(a.requires_grad)\n",
        "b = (a**2).sum()\n",
        "print(b.grad_fn)"
      ]
    },
    {
      "cell_type": "code",
      "execution_count": null,
      "metadata": {
        "colab": {
          "base_uri": "https://localhost:8080/"
        },
        "id": "6TMYIjl7cvpl",
        "outputId": "67def8ac-e219-444a-d7cb-097c251b5521"
      },
      "outputs": [
        {
          "name": "stdout",
          "output_type": "stream",
          "text": [
            "W before training: tensor([ 0.4460, -1.4801,  0.2089], requires_grad=True)\n",
            "tensor([ 0.4772, -0.5658, -0.7503])\n",
            "tensor([ 0.4772, -0.5658, -0.7503])\n",
            "tensor([ 0.4772, -0.5658, -0.7503])\n",
            "tensor([ 0.4772, -0.5658, -0.7503])\n",
            "tensor([ 0.4772, -0.5658, -0.7503])\n",
            "W after training: tensor([ 0.2074, -1.1972,  0.5841], requires_grad=True)\n"
          ]
        }
      ],
      "source": [
        "x = torch.randn(3, requires_grad=True)\n",
        "w = torch.randn(3, requires_grad=True)\n",
        "\n",
        "print(\"W before training:\", w)\n",
        "\n",
        "for epoch in range(5):\n",
        "  output = (x*w).sum()\n",
        "\n",
        "  output.backward()\n",
        "\n",
        "  with torch.no_grad():\n",
        "    w -= 0.1*w.grad\n",
        "  print(w.grad)\n",
        "\n",
        "  w.grad.zero_()\n",
        "\n",
        "print(\"W after training:\", w)"
      ]
    },
    {
      "cell_type": "code",
      "execution_count": null,
      "metadata": {
        "id": "I-K7aEWjj1W1"
      },
      "outputs": [],
      "source": []
    },
    {
      "cell_type": "markdown",
      "metadata": {
        "id": "8SOYdmgvOHo4"
      },
      "source": [
        "# **Basic Neural Network**"
      ]
    },
    {
      "cell_type": "code",
      "execution_count": null,
      "metadata": {
        "id": "8ui0Psm3j1Nx"
      },
      "outputs": [],
      "source": [
        "import torch\n",
        "import numpy as np\n",
        "\n",
        "# Input (temp, rainfall, humidity)\n",
        "inputs = np.array([[73, 67, 43],\n",
        "                   [91, 88, 64],\n",
        "                   [87, 134, 58],\n",
        "                   [102, 43, 37],\n",
        "                   [69, 96, 70],\n",
        "                   [85, 100, 60],\n",
        "                   [95, 80, 55],\n",
        "                   [105, 120, 75],\n",
        "                   [78, 90, 50],\n",
        "                   [82, 70, 45]], dtype='float32')\n",
        "\n",
        "# Targets (apples, oranges)\n",
        "targets = np.array([[56, 70],\n",
        "                    [81, 101],\n",
        "                    [119, 133],\n",
        "                    [22, 37],\n",
        "                    [103, 119],\n",
        "                    [98, 110],\n",
        "                    [88, 95],\n",
        "                    [115, 140],\n",
        "                    [76, 85],\n",
        "                    [65, 75]], dtype='float32')"
      ]
    },
    {
      "cell_type": "code",
      "execution_count": null,
      "metadata": {
        "colab": {
          "base_uri": "https://localhost:8080/"
        },
        "id": "jIF12AOVj1Kt",
        "outputId": "b5a833c5-acb0-4302-f802-86aee15474cb"
      },
      "outputs": [
        {
          "name": "stdout",
          "output_type": "stream",
          "text": [
            "tensor([[ 73.,  67.,  43.],\n",
            "        [ 91.,  88.,  64.],\n",
            "        [ 87., 134.,  58.],\n",
            "        [102.,  43.,  37.],\n",
            "        [ 69.,  96.,  70.],\n",
            "        [ 85., 100.,  60.],\n",
            "        [ 95.,  80.,  55.],\n",
            "        [105., 120.,  75.],\n",
            "        [ 78.,  90.,  50.],\n",
            "        [ 82.,  70.,  45.]])\n",
            "tensor([[ 56.,  70.],\n",
            "        [ 81., 101.],\n",
            "        [119., 133.],\n",
            "        [ 22.,  37.],\n",
            "        [103., 119.],\n",
            "        [ 98., 110.],\n",
            "        [ 88.,  95.],\n",
            "        [115., 140.],\n",
            "        [ 76.,  85.],\n",
            "        [ 65.,  75.]])\n"
          ]
        }
      ],
      "source": [
        "inputs = torch.from_numpy(inputs)\n",
        "targets = torch.from_numpy(targets)\n",
        "print(inputs)\n",
        "print(targets)"
      ]
    },
    {
      "cell_type": "code",
      "execution_count": null,
      "metadata": {
        "colab": {
          "base_uri": "https://localhost:8080/"
        },
        "id": "6DG1zS7iKBCP",
        "outputId": "c8744783-7390-4c43-8455-b7d06fc29dbc"
      },
      "outputs": [
        {
          "name": "stdout",
          "output_type": "stream",
          "text": [
            "tensor([[ 0.1674,  0.2380],\n",
            "        [ 0.8814, -0.4406],\n",
            "        [ 0.9254,  0.4304]], requires_grad=True)\n",
            "tensor([ 1.2801, -0.7225], requires_grad=True)\n"
          ]
        }
      ],
      "source": [
        "w = torch.randn(3,2, requires_grad=True)\n",
        "b = torch.randn(2, requires_grad=True)\n",
        "print(w)\n",
        "print(b)"
      ]
    },
    {
      "cell_type": "code",
      "execution_count": null,
      "metadata": {
        "colab": {
          "base_uri": "https://localhost:8080/"
        },
        "id": "ecfwVB8-W3JY",
        "outputId": "d8f1c9df-4719-42b8-8cdc-c9006c3a33e2"
      },
      "outputs": [
        {
          "name": "stdout",
          "output_type": "stream",
          "text": [
            "167.897216796875\n",
            "97.26914978027344\n",
            "63.02490234375\n",
            "46.403343200683594\n",
            "38.319190979003906\n",
            "34.37253952026367\n",
            "32.43240737915039\n",
            "31.466655731201172\n",
            "30.975189208984375\n",
            "30.71561050415039\n",
            "tensor(30.7137, grad_fn=<DivBackward0>)\n"
          ]
        }
      ],
      "source": [
        "# Defining Model\n",
        "def model(x):\n",
        "  # return (x @ w) + b\n",
        "  return torch.matmul(x,w)+b\n",
        "\n",
        "#MSE Loss function\n",
        "def mse(p1, p2):\n",
        "  diff = p1-p2\n",
        "  return torch.sum(diff**2)/ diff.numel()\n",
        "\n",
        "# Training step\n",
        "for i in range(1000):\n",
        "  preds = model(inputs)\n",
        "  loss = mse(preds, targets)\n",
        "  loss.backward()\n",
        "  if i%100 == 99:\n",
        "    print(loss.item())\n",
        "\n",
        "  with torch.no_grad():\n",
        "    w -= w.grad * 0.00001\n",
        "    b -= b.grad * 0.00001\n",
        "    w.grad.zero_()\n",
        "    b.grad.zero_()\n",
        "\n",
        "preds = model(inputs)\n",
        "loss = mse(preds, targets)\n",
        "print(loss)"
      ]
    },
    {
      "cell_type": "code",
      "execution_count": null,
      "metadata": {
        "id": "hch8ZeEFW3H8"
      },
      "outputs": [],
      "source": []
    },
    {
      "cell_type": "code",
      "execution_count": null,
      "metadata": {
        "id": "3_5pPj0iW3D6"
      },
      "outputs": [],
      "source": []
    },
    {
      "cell_type": "markdown",
      "metadata": {
        "id": "Oor1qUGUqzSO"
      },
      "source": [
        "# **Basic Neural Network with Built-in functions**\n",
        "\n",
        "> Using Pytorch\n",
        "\n"
      ]
    },
    {
      "cell_type": "code",
      "execution_count": null,
      "metadata": {
        "colab": {
          "base_uri": "https://localhost:8080/"
        },
        "id": "B6Ymnu54qzSb",
        "outputId": "1a9795ad-c7c7-4582-f4fd-27ffb077d3ab"
      },
      "outputs": [
        {
          "data": {
            "text/plain": [
              "[tensor([[ 82.,  70.,  45.],\n",
              "         [ 73.,  67.,  43.],\n",
              "         [ 95.,  80.,  55.],\n",
              "         [ 85., 100.,  60.],\n",
              "         [105., 120.,  75.]]),\n",
              " tensor([[ 65.,  75.],\n",
              "         [ 56.,  70.],\n",
              "         [ 88.,  95.],\n",
              "         [ 98., 110.],\n",
              "         [115., 140.]])]"
            ]
          },
          "execution_count": 11,
          "metadata": {},
          "output_type": "execute_result"
        }
      ],
      "source": [
        "import torch\n",
        "import numpy as np\n",
        "import torch.nn as nn\n",
        "from torch.utils.data import TensorDataset, DataLoader\n",
        "\n",
        "# Input (temp, rainfall, humidity)\n",
        "inputs = np.array([[73, 67, 43],\n",
        "                   [91, 88, 64],\n",
        "                   [87, 134, 58],\n",
        "                   [102, 43, 37],\n",
        "                   [69, 96, 70],\n",
        "                   [85, 100, 60],\n",
        "                   [95, 80, 55],\n",
        "                   [105, 120, 75],\n",
        "                   [78, 90, 50],\n",
        "                   [82, 70, 45]], dtype='float32')\n",
        "\n",
        "# Targets (apples, oranges)\n",
        "targets = np.array([[56, 70],\n",
        "                    [81, 101],\n",
        "                    [119, 133],\n",
        "                    [22, 37],\n",
        "                    [103, 119],\n",
        "                    [98, 110],\n",
        "                    [88, 95],\n",
        "                    [115, 140],\n",
        "                    [76, 85],\n",
        "                    [65, 75]], dtype='float32')\n",
        "inputs = torch.from_numpy(inputs)\n",
        "targets = torch.from_numpy(targets)\n",
        "\n",
        "\n",
        "tensor_ds = TensorDataset(inputs, targets)\n",
        "tensor_dl = DataLoader(tensor_ds, batch_size=5, shuffle=True)\n",
        "\n",
        "next(iter(tensor_dl))"
      ]
    },
    {
      "cell_type": "code",
      "execution_count": null,
      "metadata": {
        "colab": {
          "base_uri": "https://localhost:8080/"
        },
        "id": "BZYFUl5XqzSc",
        "outputId": "af7f4e20-b3b7-4ba7-e431-b2400eef9c31"
      },
      "outputs": [
        {
          "name": "stdout",
          "output_type": "stream",
          "text": [
            "100.01762390136719\n",
            "77.62542724609375\n",
            "54.941322326660156\n",
            "52.971649169921875\n",
            "31.738414764404297\n",
            "18.23800277709961\n",
            "10.284299850463867\n",
            "5.891592979431152\n",
            "11.009353637695312\n",
            "11.201951026916504\n",
            "tensor([[ 68.4940,  77.4236],\n",
            "        [ 89.5632, 100.9864],\n",
            "        [112.8751, 128.3491],\n",
            "        [ 59.5931,  74.8526],\n",
            "        [ 87.0538,  99.1359],\n",
            "        [ 94.4693, 105.2918],\n",
            "        [ 84.3242,  96.4283],\n",
            "        [114.9714, 127.8692],\n",
            "        [ 85.1388,  94.5454],\n",
            "        [ 73.1100,  83.3301]], grad_fn=<AddmmBackward0>)\n"
          ]
        }
      ],
      "source": [
        "#Replacing Model with built-in function\n",
        "class SimpleNN(nn.Module):\n",
        "  def __init__(self):\n",
        "    super().__init__()\n",
        "    self.linear1 = nn.Linear(3, 4)\n",
        "    self.act1 = nn.ReLU()\n",
        "    self.linear2 = nn.Linear(4, 2)\n",
        "\n",
        "  def forward(self, x):\n",
        "    x = self.linear1(x)\n",
        "    x = self.act1(x)\n",
        "    x = self.linear2(x)\n",
        "    return x\n",
        "\n",
        "model = SimpleNN()\n",
        "# for name, params in model.named_parameters():\n",
        "#   print(\"Name:\", name)\n",
        "#   print(\"Param\", params)\n",
        "\n",
        "\n",
        "#Replacing MSE with built-in function\n",
        "# mse = torch.nn.MSELoss()\n",
        "mae = torch.nn.L1Loss()\n",
        "\n",
        "#Optimizer\n",
        "opt = torch.optim.Adam(model.parameters(), lr = 0.00001)\n",
        "\n",
        "# Training step\n",
        "def fit(num_epochs, model, loss_fn, opt):\n",
        "  for epoch in range(num_epochs):\n",
        "    preds = model(inputs)\n",
        "    loss = loss_fn(preds, targets)\n",
        "\n",
        "    loss.backward()\n",
        "    if epoch%100 == 99:\n",
        "      print(loss.item())\n",
        "\n",
        "    opt.step()\n",
        "    opt.zero_grad()\n",
        "\n",
        "\n",
        "opt_SGD = torch.optim.SGD(model.parameters(), lr = 0.00001)\n",
        "\n",
        "# Training step\n",
        "def fit_SGD(num_epochs, model, loss_fn, opt):\n",
        "  for epoch in range(num_epochs):\n",
        "    for xb, yb in tensor_dl:\n",
        "      preds = model(xb)\n",
        "      loss = loss_fn(preds, yb)\n",
        "\n",
        "      loss.backward()\n",
        "      opt.step()\n",
        "      opt.zero_grad()\n",
        "    if epoch%100 == 99:\n",
        "      print(loss.item())\n",
        "\n",
        "\n",
        "\n",
        "# fit(1000, model, mae, opt)\n",
        "fit_SGD(1000, model, mae, opt_SGD)\n",
        "preds = model(inputs)\n",
        "print(preds)"
      ]
    },
    {
      "cell_type": "code",
      "execution_count": null,
      "metadata": {
        "id": "SRh-9MNCqzSc"
      },
      "outputs": [],
      "source": []
    },
    {
      "cell_type": "code",
      "execution_count": null,
      "metadata": {
        "id": "o27nrIj_qzSd"
      },
      "outputs": [],
      "source": []
    },
    {
      "cell_type": "markdown",
      "metadata": {
        "id": "0AAl6e91uL3F"
      },
      "source": [
        "# **Deep Neural Network for IRIS Dataset**"
      ]
    },
    {
      "cell_type": "code",
      "execution_count": null,
      "metadata": {
        "id": "dnx_pPCPqzSd"
      },
      "outputs": [],
      "source": [
        "import torch\n",
        "import numpy as np\n",
        "import torch.nn as nn\n",
        "from torch.utils.data import TensorDataset, DataLoader\n",
        "import pandas as pd\n",
        "import matplotlib.pyplot as plt"
      ]
    },
    {
      "cell_type": "code",
      "execution_count": null,
      "metadata": {
        "colab": {
          "base_uri": "https://localhost:8080/",
          "height": 423
        },
        "id": "pBg_PvlPqzSd",
        "outputId": "07bc419d-b236-4f8e-d61e-532142aee653"
      },
      "outputs": [
        {
          "data": {
            "application/vnd.google.colaboratory.intrinsic+json": {
              "summary": "{\n  \"name\": \"iris_df\",\n  \"rows\": 150,\n  \"fields\": [\n    {\n      \"column\": \"sepal_length\",\n      \"properties\": {\n        \"dtype\": \"number\",\n        \"std\": 0.828066127977863,\n        \"min\": 4.3,\n        \"max\": 7.9,\n        \"num_unique_values\": 35,\n        \"samples\": [\n          6.2,\n          4.5,\n          5.6\n        ],\n        \"semantic_type\": \"\",\n        \"description\": \"\"\n      }\n    },\n    {\n      \"column\": \"sepal_width\",\n      \"properties\": {\n        \"dtype\": \"number\",\n        \"std\": 0.4335943113621737,\n        \"min\": 2.0,\n        \"max\": 4.4,\n        \"num_unique_values\": 23,\n        \"samples\": [\n          2.3,\n          4.0,\n          3.5\n        ],\n        \"semantic_type\": \"\",\n        \"description\": \"\"\n      }\n    },\n    {\n      \"column\": \"petal_length\",\n      \"properties\": {\n        \"dtype\": \"number\",\n        \"std\": 1.7644204199522626,\n        \"min\": 1.0,\n        \"max\": 6.9,\n        \"num_unique_values\": 43,\n        \"samples\": [\n          6.7,\n          3.8,\n          3.7\n        ],\n        \"semantic_type\": \"\",\n        \"description\": \"\"\n      }\n    },\n    {\n      \"column\": \"petal_width\",\n      \"properties\": {\n        \"dtype\": \"number\",\n        \"std\": 0.7631607417008411,\n        \"min\": 0.1,\n        \"max\": 2.5,\n        \"num_unique_values\": 22,\n        \"samples\": [\n          0.2,\n          1.2,\n          1.3\n        ],\n        \"semantic_type\": \"\",\n        \"description\": \"\"\n      }\n    },\n    {\n      \"column\": \"species\",\n      \"properties\": {\n        \"dtype\": \"category\",\n        \"num_unique_values\": 3,\n        \"samples\": [\n          \"setosa\",\n          \"versicolor\",\n          \"virginica\"\n        ],\n        \"semantic_type\": \"\",\n        \"description\": \"\"\n      }\n    }\n  ]\n}",
              "type": "dataframe",
              "variable_name": "iris_df"
            },
            "text/html": [
              "\n",
              "  <div id=\"df-2c109841-c4d2-4518-a3c1-673c8c4cb880\" class=\"colab-df-container\">\n",
              "    <div>\n",
              "<style scoped>\n",
              "    .dataframe tbody tr th:only-of-type {\n",
              "        vertical-align: middle;\n",
              "    }\n",
              "\n",
              "    .dataframe tbody tr th {\n",
              "        vertical-align: top;\n",
              "    }\n",
              "\n",
              "    .dataframe thead th {\n",
              "        text-align: right;\n",
              "    }\n",
              "</style>\n",
              "<table border=\"1\" class=\"dataframe\">\n",
              "  <thead>\n",
              "    <tr style=\"text-align: right;\">\n",
              "      <th></th>\n",
              "      <th>sepal_length</th>\n",
              "      <th>sepal_width</th>\n",
              "      <th>petal_length</th>\n",
              "      <th>petal_width</th>\n",
              "      <th>species</th>\n",
              "    </tr>\n",
              "  </thead>\n",
              "  <tbody>\n",
              "    <tr>\n",
              "      <th>0</th>\n",
              "      <td>5.1</td>\n",
              "      <td>3.5</td>\n",
              "      <td>1.4</td>\n",
              "      <td>0.2</td>\n",
              "      <td>setosa</td>\n",
              "    </tr>\n",
              "    <tr>\n",
              "      <th>1</th>\n",
              "      <td>4.9</td>\n",
              "      <td>3.0</td>\n",
              "      <td>1.4</td>\n",
              "      <td>0.2</td>\n",
              "      <td>setosa</td>\n",
              "    </tr>\n",
              "    <tr>\n",
              "      <th>2</th>\n",
              "      <td>4.7</td>\n",
              "      <td>3.2</td>\n",
              "      <td>1.3</td>\n",
              "      <td>0.2</td>\n",
              "      <td>setosa</td>\n",
              "    </tr>\n",
              "    <tr>\n",
              "      <th>3</th>\n",
              "      <td>4.6</td>\n",
              "      <td>3.1</td>\n",
              "      <td>1.5</td>\n",
              "      <td>0.2</td>\n",
              "      <td>setosa</td>\n",
              "    </tr>\n",
              "    <tr>\n",
              "      <th>4</th>\n",
              "      <td>5.0</td>\n",
              "      <td>3.6</td>\n",
              "      <td>1.4</td>\n",
              "      <td>0.2</td>\n",
              "      <td>setosa</td>\n",
              "    </tr>\n",
              "    <tr>\n",
              "      <th>...</th>\n",
              "      <td>...</td>\n",
              "      <td>...</td>\n",
              "      <td>...</td>\n",
              "      <td>...</td>\n",
              "      <td>...</td>\n",
              "    </tr>\n",
              "    <tr>\n",
              "      <th>145</th>\n",
              "      <td>6.7</td>\n",
              "      <td>3.0</td>\n",
              "      <td>5.2</td>\n",
              "      <td>2.3</td>\n",
              "      <td>virginica</td>\n",
              "    </tr>\n",
              "    <tr>\n",
              "      <th>146</th>\n",
              "      <td>6.3</td>\n",
              "      <td>2.5</td>\n",
              "      <td>5.0</td>\n",
              "      <td>1.9</td>\n",
              "      <td>virginica</td>\n",
              "    </tr>\n",
              "    <tr>\n",
              "      <th>147</th>\n",
              "      <td>6.5</td>\n",
              "      <td>3.0</td>\n",
              "      <td>5.2</td>\n",
              "      <td>2.0</td>\n",
              "      <td>virginica</td>\n",
              "    </tr>\n",
              "    <tr>\n",
              "      <th>148</th>\n",
              "      <td>6.2</td>\n",
              "      <td>3.4</td>\n",
              "      <td>5.4</td>\n",
              "      <td>2.3</td>\n",
              "      <td>virginica</td>\n",
              "    </tr>\n",
              "    <tr>\n",
              "      <th>149</th>\n",
              "      <td>5.9</td>\n",
              "      <td>3.0</td>\n",
              "      <td>5.1</td>\n",
              "      <td>1.8</td>\n",
              "      <td>virginica</td>\n",
              "    </tr>\n",
              "  </tbody>\n",
              "</table>\n",
              "<p>150 rows × 5 columns</p>\n",
              "</div>\n",
              "    <div class=\"colab-df-buttons\">\n",
              "\n",
              "  <div class=\"colab-df-container\">\n",
              "    <button class=\"colab-df-convert\" onclick=\"convertToInteractive('df-2c109841-c4d2-4518-a3c1-673c8c4cb880')\"\n",
              "            title=\"Convert this dataframe to an interactive table.\"\n",
              "            style=\"display:none;\">\n",
              "\n",
              "  <svg xmlns=\"http://www.w3.org/2000/svg\" height=\"24px\" viewBox=\"0 -960 960 960\">\n",
              "    <path d=\"M120-120v-720h720v720H120Zm60-500h600v-160H180v160Zm220 220h160v-160H400v160Zm0 220h160v-160H400v160ZM180-400h160v-160H180v160Zm440 0h160v-160H620v160ZM180-180h160v-160H180v160Zm440 0h160v-160H620v160Z\"/>\n",
              "  </svg>\n",
              "    </button>\n",
              "\n",
              "  <style>\n",
              "    .colab-df-container {\n",
              "      display:flex;\n",
              "      gap: 12px;\n",
              "    }\n",
              "\n",
              "    .colab-df-convert {\n",
              "      background-color: #E8F0FE;\n",
              "      border: none;\n",
              "      border-radius: 50%;\n",
              "      cursor: pointer;\n",
              "      display: none;\n",
              "      fill: #1967D2;\n",
              "      height: 32px;\n",
              "      padding: 0 0 0 0;\n",
              "      width: 32px;\n",
              "    }\n",
              "\n",
              "    .colab-df-convert:hover {\n",
              "      background-color: #E2EBFA;\n",
              "      box-shadow: 0px 1px 2px rgba(60, 64, 67, 0.3), 0px 1px 3px 1px rgba(60, 64, 67, 0.15);\n",
              "      fill: #174EA6;\n",
              "    }\n",
              "\n",
              "    .colab-df-buttons div {\n",
              "      margin-bottom: 4px;\n",
              "    }\n",
              "\n",
              "    [theme=dark] .colab-df-convert {\n",
              "      background-color: #3B4455;\n",
              "      fill: #D2E3FC;\n",
              "    }\n",
              "\n",
              "    [theme=dark] .colab-df-convert:hover {\n",
              "      background-color: #434B5C;\n",
              "      box-shadow: 0px 1px 3px 1px rgba(0, 0, 0, 0.15);\n",
              "      filter: drop-shadow(0px 1px 2px rgba(0, 0, 0, 0.3));\n",
              "      fill: #FFFFFF;\n",
              "    }\n",
              "  </style>\n",
              "\n",
              "    <script>\n",
              "      const buttonEl =\n",
              "        document.querySelector('#df-2c109841-c4d2-4518-a3c1-673c8c4cb880 button.colab-df-convert');\n",
              "      buttonEl.style.display =\n",
              "        google.colab.kernel.accessAllowed ? 'block' : 'none';\n",
              "\n",
              "      async function convertToInteractive(key) {\n",
              "        const element = document.querySelector('#df-2c109841-c4d2-4518-a3c1-673c8c4cb880');\n",
              "        const dataTable =\n",
              "          await google.colab.kernel.invokeFunction('convertToInteractive',\n",
              "                                                    [key], {});\n",
              "        if (!dataTable) return;\n",
              "\n",
              "        const docLinkHtml = 'Like what you see? Visit the ' +\n",
              "          '<a target=\"_blank\" href=https://colab.research.google.com/notebooks/data_table.ipynb>data table notebook</a>'\n",
              "          + ' to learn more about interactive tables.';\n",
              "        element.innerHTML = '';\n",
              "        dataTable['output_type'] = 'display_data';\n",
              "        await google.colab.output.renderOutput(dataTable, element);\n",
              "        const docLink = document.createElement('div');\n",
              "        docLink.innerHTML = docLinkHtml;\n",
              "        element.appendChild(docLink);\n",
              "      }\n",
              "    </script>\n",
              "  </div>\n",
              "\n",
              "\n",
              "<div id=\"df-bc8028e0-ffcb-4e40-af30-7f88e8ad4bbe\">\n",
              "  <button class=\"colab-df-quickchart\" onclick=\"quickchart('df-bc8028e0-ffcb-4e40-af30-7f88e8ad4bbe')\"\n",
              "            title=\"Suggest charts\"\n",
              "            style=\"display:none;\">\n",
              "\n",
              "<svg xmlns=\"http://www.w3.org/2000/svg\" height=\"24px\"viewBox=\"0 0 24 24\"\n",
              "     width=\"24px\">\n",
              "    <g>\n",
              "        <path d=\"M19 3H5c-1.1 0-2 .9-2 2v14c0 1.1.9 2 2 2h14c1.1 0 2-.9 2-2V5c0-1.1-.9-2-2-2zM9 17H7v-7h2v7zm4 0h-2V7h2v10zm4 0h-2v-4h2v4z\"/>\n",
              "    </g>\n",
              "</svg>\n",
              "  </button>\n",
              "\n",
              "<style>\n",
              "  .colab-df-quickchart {\n",
              "      --bg-color: #E8F0FE;\n",
              "      --fill-color: #1967D2;\n",
              "      --hover-bg-color: #E2EBFA;\n",
              "      --hover-fill-color: #174EA6;\n",
              "      --disabled-fill-color: #AAA;\n",
              "      --disabled-bg-color: #DDD;\n",
              "  }\n",
              "\n",
              "  [theme=dark] .colab-df-quickchart {\n",
              "      --bg-color: #3B4455;\n",
              "      --fill-color: #D2E3FC;\n",
              "      --hover-bg-color: #434B5C;\n",
              "      --hover-fill-color: #FFFFFF;\n",
              "      --disabled-bg-color: #3B4455;\n",
              "      --disabled-fill-color: #666;\n",
              "  }\n",
              "\n",
              "  .colab-df-quickchart {\n",
              "    background-color: var(--bg-color);\n",
              "    border: none;\n",
              "    border-radius: 50%;\n",
              "    cursor: pointer;\n",
              "    display: none;\n",
              "    fill: var(--fill-color);\n",
              "    height: 32px;\n",
              "    padding: 0;\n",
              "    width: 32px;\n",
              "  }\n",
              "\n",
              "  .colab-df-quickchart:hover {\n",
              "    background-color: var(--hover-bg-color);\n",
              "    box-shadow: 0 1px 2px rgba(60, 64, 67, 0.3), 0 1px 3px 1px rgba(60, 64, 67, 0.15);\n",
              "    fill: var(--button-hover-fill-color);\n",
              "  }\n",
              "\n",
              "  .colab-df-quickchart-complete:disabled,\n",
              "  .colab-df-quickchart-complete:disabled:hover {\n",
              "    background-color: var(--disabled-bg-color);\n",
              "    fill: var(--disabled-fill-color);\n",
              "    box-shadow: none;\n",
              "  }\n",
              "\n",
              "  .colab-df-spinner {\n",
              "    border: 2px solid var(--fill-color);\n",
              "    border-color: transparent;\n",
              "    border-bottom-color: var(--fill-color);\n",
              "    animation:\n",
              "      spin 1s steps(1) infinite;\n",
              "  }\n",
              "\n",
              "  @keyframes spin {\n",
              "    0% {\n",
              "      border-color: transparent;\n",
              "      border-bottom-color: var(--fill-color);\n",
              "      border-left-color: var(--fill-color);\n",
              "    }\n",
              "    20% {\n",
              "      border-color: transparent;\n",
              "      border-left-color: var(--fill-color);\n",
              "      border-top-color: var(--fill-color);\n",
              "    }\n",
              "    30% {\n",
              "      border-color: transparent;\n",
              "      border-left-color: var(--fill-color);\n",
              "      border-top-color: var(--fill-color);\n",
              "      border-right-color: var(--fill-color);\n",
              "    }\n",
              "    40% {\n",
              "      border-color: transparent;\n",
              "      border-right-color: var(--fill-color);\n",
              "      border-top-color: var(--fill-color);\n",
              "    }\n",
              "    60% {\n",
              "      border-color: transparent;\n",
              "      border-right-color: var(--fill-color);\n",
              "    }\n",
              "    80% {\n",
              "      border-color: transparent;\n",
              "      border-right-color: var(--fill-color);\n",
              "      border-bottom-color: var(--fill-color);\n",
              "    }\n",
              "    90% {\n",
              "      border-color: transparent;\n",
              "      border-bottom-color: var(--fill-color);\n",
              "    }\n",
              "  }\n",
              "</style>\n",
              "\n",
              "  <script>\n",
              "    async function quickchart(key) {\n",
              "      const quickchartButtonEl =\n",
              "        document.querySelector('#' + key + ' button');\n",
              "      quickchartButtonEl.disabled = true;  // To prevent multiple clicks.\n",
              "      quickchartButtonEl.classList.add('colab-df-spinner');\n",
              "      try {\n",
              "        const charts = await google.colab.kernel.invokeFunction(\n",
              "            'suggestCharts', [key], {});\n",
              "      } catch (error) {\n",
              "        console.error('Error during call to suggestCharts:', error);\n",
              "      }\n",
              "      quickchartButtonEl.classList.remove('colab-df-spinner');\n",
              "      quickchartButtonEl.classList.add('colab-df-quickchart-complete');\n",
              "    }\n",
              "    (() => {\n",
              "      let quickchartButtonEl =\n",
              "        document.querySelector('#df-bc8028e0-ffcb-4e40-af30-7f88e8ad4bbe button');\n",
              "      quickchartButtonEl.style.display =\n",
              "        google.colab.kernel.accessAllowed ? 'block' : 'none';\n",
              "    })();\n",
              "  </script>\n",
              "</div>\n",
              "\n",
              "  <div id=\"id_852e4e4a-3a1c-418d-834f-7920e269d80b\">\n",
              "    <style>\n",
              "      .colab-df-generate {\n",
              "        background-color: #E8F0FE;\n",
              "        border: none;\n",
              "        border-radius: 50%;\n",
              "        cursor: pointer;\n",
              "        display: none;\n",
              "        fill: #1967D2;\n",
              "        height: 32px;\n",
              "        padding: 0 0 0 0;\n",
              "        width: 32px;\n",
              "      }\n",
              "\n",
              "      .colab-df-generate:hover {\n",
              "        background-color: #E2EBFA;\n",
              "        box-shadow: 0px 1px 2px rgba(60, 64, 67, 0.3), 0px 1px 3px 1px rgba(60, 64, 67, 0.15);\n",
              "        fill: #174EA6;\n",
              "      }\n",
              "\n",
              "      [theme=dark] .colab-df-generate {\n",
              "        background-color: #3B4455;\n",
              "        fill: #D2E3FC;\n",
              "      }\n",
              "\n",
              "      [theme=dark] .colab-df-generate:hover {\n",
              "        background-color: #434B5C;\n",
              "        box-shadow: 0px 1px 3px 1px rgba(0, 0, 0, 0.15);\n",
              "        filter: drop-shadow(0px 1px 2px rgba(0, 0, 0, 0.3));\n",
              "        fill: #FFFFFF;\n",
              "      }\n",
              "    </style>\n",
              "    <button class=\"colab-df-generate\" onclick=\"generateWithVariable('iris_df')\"\n",
              "            title=\"Generate code using this dataframe.\"\n",
              "            style=\"display:none;\">\n",
              "\n",
              "  <svg xmlns=\"http://www.w3.org/2000/svg\" height=\"24px\"viewBox=\"0 0 24 24\"\n",
              "       width=\"24px\">\n",
              "    <path d=\"M7,19H8.4L18.45,9,17,7.55,7,17.6ZM5,21V16.75L18.45,3.32a2,2,0,0,1,2.83,0l1.4,1.43a1.91,1.91,0,0,1,.58,1.4,1.91,1.91,0,0,1-.58,1.4L9.25,21ZM18.45,9,17,7.55Zm-12,3A5.31,5.31,0,0,0,4.9,8.1,5.31,5.31,0,0,0,1,6.5,5.31,5.31,0,0,0,4.9,4.9,5.31,5.31,0,0,0,6.5,1,5.31,5.31,0,0,0,8.1,4.9,5.31,5.31,0,0,0,12,6.5,5.46,5.46,0,0,0,6.5,12Z\"/>\n",
              "  </svg>\n",
              "    </button>\n",
              "    <script>\n",
              "      (() => {\n",
              "      const buttonEl =\n",
              "        document.querySelector('#id_852e4e4a-3a1c-418d-834f-7920e269d80b button.colab-df-generate');\n",
              "      buttonEl.style.display =\n",
              "        google.colab.kernel.accessAllowed ? 'block' : 'none';\n",
              "\n",
              "      buttonEl.onclick = () => {\n",
              "        google.colab.notebook.generateWithVariable('iris_df');\n",
              "      }\n",
              "      })();\n",
              "    </script>\n",
              "  </div>\n",
              "\n",
              "    </div>\n",
              "  </div>\n"
            ],
            "text/plain": [
              "     sepal_length  sepal_width  petal_length  petal_width    species\n",
              "0             5.1          3.5           1.4          0.2     setosa\n",
              "1             4.9          3.0           1.4          0.2     setosa\n",
              "2             4.7          3.2           1.3          0.2     setosa\n",
              "3             4.6          3.1           1.5          0.2     setosa\n",
              "4             5.0          3.6           1.4          0.2     setosa\n",
              "..            ...          ...           ...          ...        ...\n",
              "145           6.7          3.0           5.2          2.3  virginica\n",
              "146           6.3          2.5           5.0          1.9  virginica\n",
              "147           6.5          3.0           5.2          2.0  virginica\n",
              "148           6.2          3.4           5.4          2.3  virginica\n",
              "149           5.9          3.0           5.1          1.8  virginica\n",
              "\n",
              "[150 rows x 5 columns]"
            ]
          },
          "execution_count": 3,
          "metadata": {},
          "output_type": "execute_result"
        }
      ],
      "source": [
        "url = \"https://gist.githubusercontent.com/curran/a08a1080b88344b0c8a7/raw/0e7a9b0a5d22642a06d3d5b9bcbad9890c8ee534/iris.csv\"\n",
        "iris_df = pd.read_csv(url)\n",
        "iris_df"
      ]
    },
    {
      "cell_type": "code",
      "execution_count": null,
      "metadata": {
        "id": "WsjYgYM6qzSd"
      },
      "outputs": [],
      "source": [
        "# Change last column from strings to integers\n",
        "iris_df['species'] = iris_df['species'].replace('setosa', 0)\n",
        "iris_df['species'] = iris_df['species'].replace('versicolor', 1)\n",
        "iris_df['species'] = iris_df['species'].replace('virginica', 2)\n",
        "\n",
        "\n",
        "X = iris_df.drop('species', axis=1).values\n",
        "y = iris_df['species'].values"
      ]
    },
    {
      "cell_type": "code",
      "execution_count": null,
      "metadata": {
        "id": "b2kdcQPmqzSe"
      },
      "outputs": [],
      "source": [
        "# Train test split\n",
        "from sklearn.model_selection import train_test_split\n",
        "X_train, X_test, y_train, y_test = train_test_split(X, y, test_size = 0.2, random_state=41)"
      ]
    },
    {
      "cell_type": "code",
      "execution_count": null,
      "metadata": {
        "colab": {
          "base_uri": "https://localhost:8080/"
        },
        "id": "-J4DeEp7qzSe",
        "outputId": "5bab578a-42a4-4e90-8429-6d69619809e9"
      },
      "outputs": [
        {
          "data": {
            "text/plain": [
              "tensor([[5.7000, 2.6000, 3.5000, 1.0000],\n",
              "        [6.5000, 2.8000, 4.6000, 1.5000],\n",
              "        [4.9000, 2.5000, 4.5000, 1.7000],\n",
              "        [5.5000, 2.6000, 4.4000, 1.2000],\n",
              "        [6.7000, 3.0000, 5.2000, 2.3000],\n",
              "        [5.8000, 4.0000, 1.2000, 0.2000],\n",
              "        [6.9000, 3.1000, 5.1000, 2.3000],\n",
              "        [6.4000, 3.2000, 4.5000, 1.5000],\n",
              "        [6.9000, 3.1000, 5.4000, 2.1000],\n",
              "        [5.9000, 3.2000, 4.8000, 1.8000],\n",
              "        [6.2000, 2.9000, 4.3000, 1.3000],\n",
              "        [5.7000, 2.8000, 4.5000, 1.3000],\n",
              "        [5.2000, 4.1000, 1.5000, 0.1000],\n",
              "        [6.5000, 3.0000, 5.8000, 2.2000],\n",
              "        [6.3000, 3.4000, 5.6000, 2.4000],\n",
              "        [5.7000, 3.8000, 1.7000, 0.3000],\n",
              "        [6.7000, 2.5000, 5.8000, 1.8000],\n",
              "        [5.1000, 2.5000, 3.0000, 1.1000],\n",
              "        [4.8000, 3.0000, 1.4000, 0.3000],\n",
              "        [6.2000, 2.2000, 4.5000, 1.5000],\n",
              "        [6.4000, 2.7000, 5.3000, 1.9000],\n",
              "        [5.8000, 2.7000, 3.9000, 1.2000],\n",
              "        [7.4000, 2.8000, 6.1000, 1.9000],\n",
              "        [5.2000, 3.5000, 1.5000, 0.2000],\n",
              "        [5.5000, 4.2000, 1.4000, 0.2000],\n",
              "        [5.9000, 3.0000, 5.1000, 1.8000],\n",
              "        [6.2000, 2.8000, 4.8000, 1.8000],\n",
              "        [4.6000, 3.1000, 1.5000, 0.2000],\n",
              "        [5.6000, 3.0000, 4.5000, 1.5000],\n",
              "        [4.6000, 3.4000, 1.4000, 0.3000],\n",
              "        [4.9000, 3.1000, 1.5000, 0.1000],\n",
              "        [6.6000, 3.0000, 4.4000, 1.4000],\n",
              "        [5.4000, 3.9000, 1.3000, 0.4000],\n",
              "        [4.9000, 2.4000, 3.3000, 1.0000],\n",
              "        [6.2000, 3.4000, 5.4000, 2.3000],\n",
              "        [5.0000, 3.0000, 1.6000, 0.2000],\n",
              "        [6.3000, 2.3000, 4.4000, 1.3000],\n",
              "        [5.7000, 2.8000, 4.1000, 1.3000],\n",
              "        [5.6000, 2.8000, 4.9000, 2.0000],\n",
              "        [5.1000, 3.5000, 1.4000, 0.2000],\n",
              "        [5.7000, 2.9000, 4.2000, 1.3000],\n",
              "        [5.0000, 2.0000, 3.5000, 1.0000],\n",
              "        [4.8000, 3.4000, 1.9000, 0.2000],\n",
              "        [7.7000, 2.6000, 6.9000, 2.3000],\n",
              "        [6.3000, 2.5000, 4.9000, 1.5000],\n",
              "        [5.1000, 3.5000, 1.4000, 0.3000],\n",
              "        [6.5000, 3.0000, 5.5000, 1.8000],\n",
              "        [6.3000, 2.5000, 5.0000, 1.9000],\n",
              "        [4.4000, 3.2000, 1.3000, 0.2000],\n",
              "        [6.7000, 3.0000, 5.0000, 1.7000],\n",
              "        [5.4000, 3.7000, 1.5000, 0.2000],\n",
              "        [5.0000, 3.5000, 1.3000, 0.3000],\n",
              "        [6.7000, 3.3000, 5.7000, 2.1000],\n",
              "        [7.7000, 3.8000, 6.7000, 2.2000],\n",
              "        [5.7000, 2.5000, 5.0000, 2.0000],\n",
              "        [4.6000, 3.2000, 1.4000, 0.2000],\n",
              "        [4.7000, 3.2000, 1.6000, 0.2000],\n",
              "        [5.0000, 3.4000, 1.5000, 0.2000],\n",
              "        [4.8000, 3.4000, 1.6000, 0.2000],\n",
              "        [5.3000, 3.7000, 1.5000, 0.2000],\n",
              "        [6.1000, 2.6000, 5.6000, 1.4000],\n",
              "        [6.0000, 3.0000, 4.8000, 1.8000],\n",
              "        [5.5000, 3.5000, 1.3000, 0.2000],\n",
              "        [7.2000, 3.2000, 6.0000, 1.8000],\n",
              "        [7.0000, 3.2000, 4.7000, 1.4000],\n",
              "        [5.7000, 4.4000, 1.5000, 0.4000],\n",
              "        [4.3000, 3.0000, 1.1000, 0.1000],\n",
              "        [6.5000, 3.2000, 5.1000, 2.0000],\n",
              "        [5.8000, 2.7000, 5.1000, 1.9000],\n",
              "        [6.4000, 3.2000, 5.3000, 2.3000],\n",
              "        [6.1000, 2.8000, 4.7000, 1.2000],\n",
              "        [6.0000, 2.9000, 4.5000, 1.5000],\n",
              "        [5.8000, 2.7000, 5.1000, 1.9000],\n",
              "        [4.9000, 3.0000, 1.4000, 0.2000],\n",
              "        [6.6000, 2.9000, 4.6000, 1.3000],\n",
              "        [7.1000, 3.0000, 5.9000, 2.1000],\n",
              "        [6.4000, 2.9000, 4.3000, 1.3000],\n",
              "        [6.9000, 3.1000, 4.9000, 1.5000],\n",
              "        [4.4000, 2.9000, 1.4000, 0.2000],\n",
              "        [5.7000, 3.0000, 4.2000, 1.2000],\n",
              "        [5.1000, 3.7000, 1.5000, 0.4000],\n",
              "        [5.9000, 3.0000, 4.2000, 1.5000],\n",
              "        [5.4000, 3.4000, 1.5000, 0.4000],\n",
              "        [5.6000, 2.7000, 4.2000, 1.3000],\n",
              "        [7.3000, 2.9000, 6.3000, 1.8000],\n",
              "        [6.3000, 3.3000, 6.0000, 2.5000],\n",
              "        [6.7000, 3.3000, 5.7000, 2.5000],\n",
              "        [5.1000, 3.8000, 1.6000, 0.2000],\n",
              "        [4.9000, 3.1000, 1.5000, 0.1000],\n",
              "        [4.6000, 3.6000, 1.0000, 0.2000],\n",
              "        [5.1000, 3.8000, 1.9000, 0.4000],\n",
              "        [6.3000, 2.9000, 5.6000, 1.8000],\n",
              "        [5.4000, 3.9000, 1.7000, 0.4000],\n",
              "        [5.4000, 3.4000, 1.7000, 0.2000],\n",
              "        [5.6000, 2.5000, 3.9000, 1.1000],\n",
              "        [6.4000, 2.8000, 5.6000, 2.2000],\n",
              "        [5.0000, 3.2000, 1.2000, 0.2000],\n",
              "        [5.8000, 2.8000, 5.1000, 2.4000],\n",
              "        [4.8000, 3.0000, 1.4000, 0.1000],\n",
              "        [6.8000, 2.8000, 4.8000, 1.4000],\n",
              "        [7.2000, 3.0000, 5.8000, 1.6000],\n",
              "        [5.2000, 2.7000, 3.9000, 1.4000],\n",
              "        [5.0000, 3.6000, 1.4000, 0.2000],\n",
              "        [6.4000, 3.1000, 5.5000, 1.8000],\n",
              "        [5.1000, 3.8000, 1.5000, 0.3000],\n",
              "        [5.5000, 2.3000, 4.0000, 1.3000],\n",
              "        [5.2000, 3.4000, 1.4000, 0.2000],\n",
              "        [7.7000, 2.8000, 6.7000, 2.0000],\n",
              "        [5.8000, 2.6000, 4.0000, 1.2000],\n",
              "        [5.6000, 3.0000, 4.1000, 1.3000],\n",
              "        [7.6000, 3.0000, 6.6000, 2.1000],\n",
              "        [6.7000, 3.1000, 4.7000, 1.5000],\n",
              "        [5.4000, 3.0000, 4.5000, 1.5000],\n",
              "        [7.9000, 3.8000, 6.4000, 2.0000],\n",
              "        [7.2000, 3.6000, 6.1000, 2.5000],\n",
              "        [5.0000, 3.4000, 1.6000, 0.4000],\n",
              "        [5.5000, 2.5000, 4.0000, 1.3000],\n",
              "        [6.7000, 3.1000, 4.4000, 1.4000],\n",
              "        [5.5000, 2.4000, 3.8000, 1.1000],\n",
              "        [6.7000, 3.1000, 5.6000, 2.4000]])"
            ]
          },
          "execution_count": 15,
          "metadata": {},
          "output_type": "execute_result"
        }
      ],
      "source": [
        "X_train = torch.FloatTensor(X_train)\n",
        "X_test = torch.FloatTensor(X_test)\n",
        "X_train"
      ]
    },
    {
      "cell_type": "code",
      "execution_count": null,
      "metadata": {
        "id": "9_esIc2XqzSe"
      },
      "outputs": [],
      "source": [
        "y_train = torch.LongTensor(y_train)\n",
        "y_test = torch.LongTensor(y_test)"
      ]
    },
    {
      "cell_type": "code",
      "execution_count": null,
      "metadata": {
        "colab": {
          "base_uri": "https://localhost:8080/"
        },
        "id": "YqTgUnebqzSe",
        "outputId": "ea05f563-2d2a-46bd-bef8-065c35f2285d"
      },
      "outputs": [
        {
          "data": {
            "text/plain": [
              "[tensor([[7.1000, 3.0000, 5.9000, 2.1000],\n",
              "         [5.1000, 3.8000, 1.6000, 0.2000],\n",
              "         [7.2000, 3.0000, 5.8000, 1.6000],\n",
              "         [5.4000, 3.9000, 1.3000, 0.4000],\n",
              "         [7.9000, 3.8000, 6.4000, 2.0000],\n",
              "         [6.6000, 2.9000, 4.6000, 1.3000],\n",
              "         [5.7000, 4.4000, 1.5000, 0.4000],\n",
              "         [5.1000, 2.5000, 3.0000, 1.1000],\n",
              "         [6.0000, 2.9000, 4.5000, 1.5000],\n",
              "         [6.7000, 3.1000, 4.7000, 1.5000],\n",
              "         [4.4000, 3.2000, 1.3000, 0.2000],\n",
              "         [5.4000, 3.7000, 1.5000, 0.2000],\n",
              "         [6.8000, 2.8000, 4.8000, 1.4000],\n",
              "         [7.2000, 3.2000, 6.0000, 1.8000],\n",
              "         [4.6000, 3.1000, 1.5000, 0.2000]]),\n",
              " tensor([2, 0, 2, 0, 2, 1, 0, 1, 1, 1, 0, 0, 1, 2, 0])]"
            ]
          },
          "execution_count": 19,
          "metadata": {},
          "output_type": "execute_result"
        }
      ],
      "source": [
        "from torch.utils.data import TensorDataset, DataLoader\n",
        "train_ds = TensorDataset(X_train, y_train)\n",
        "batch_size = 15\n",
        "train_dl = DataLoader(train_ds, batch_size=batch_size, shuffle=True)\n",
        "next(iter(train_dl))"
      ]
    },
    {
      "cell_type": "code",
      "execution_count": null,
      "metadata": {
        "colab": {
          "base_uri": "https://localhost:8080/",
          "height": 1000
        },
        "id": "XYmNbCQVqzSf",
        "outputId": "1ba90643-f8db-406a-b00c-a04a448b5082"
      },
      "outputs": [
        {
          "name": "stdout",
          "output_type": "stream",
          "text": [
            "0.9880470633506775\n",
            "0.7694223523139954\n",
            "0.6692188382148743\n",
            "0.7455676794052124\n",
            "0.6409342288970947\n",
            "0.6358434557914734\n",
            "0.5680059790611267\n",
            "0.5931703448295593\n",
            "0.5441821217536926\n",
            "0.46215203404426575\n"
          ]
        },
        {
          "data": {
            "image/png": "[encoded data removed]",
            "text/plain": [
              "<Figure size 640x480 with 1 Axes>"
            ]
          },
          "metadata": {},
          "output_type": "display_data"
        },
        {
          "name": "stdout",
          "output_type": "stream",
          "text": [
            "tensor([[-3.3918,  1.4222,  1.8715],\n",
            "        [-4.0027,  1.6981,  2.3010],\n",
            "        [-4.4587,  1.8907,  2.6281],\n",
            "        [-2.5622,  1.0585,  1.2828],\n",
            "        [-3.7766,  1.5956,  2.1421],\n",
            "        [-1.9332,  0.7782,  0.8388],\n",
            "        [-3.1548,  1.3206,  1.7022],\n",
            "        [-2.3607,  0.9748,  1.1376],\n",
            "        [-3.4244,  1.4418,  1.8920],\n",
            "        [-4.2157,  1.7930,  2.4513],\n",
            "        [-3.0439,  1.2753,  1.6218],\n",
            "        [ 0.8554, -0.5039, -1.1108],\n",
            "        [ 0.8554, -0.5039, -1.1108],\n",
            "        [-1.3267,  0.5143,  0.4075],\n",
            "        [ 0.8170, -0.4626, -1.0955],\n",
            "        [-3.2311,  1.3521,  1.7573],\n",
            "        [ 0.8359, -0.4829, -1.1030],\n",
            "        [-3.3310,  1.3994,  1.8264],\n",
            "        [ 0.8554, -0.5039, -1.1108],\n",
            "        [ 0.8294, -0.4760, -1.1004],\n",
            "        [-1.6992,  0.6749,  0.6731],\n",
            "        [-3.9827,  1.6890,  2.2869],\n",
            "        [ 0.8357, -0.4826, -1.1029],\n",
            "        [ 0.8554, -0.5039, -1.1108],\n",
            "        [-1.4769,  0.5818,  0.5133],\n",
            "        [-2.0846,  0.8393,  0.9487],\n",
            "        [-2.6061,  1.0799,  1.3130],\n",
            "        [-2.0026,  0.8082,  0.8883],\n",
            "        [ 0.8554, -0.5039, -1.1108],\n",
            "        [-2.7169,  1.1263,  1.3926]], grad_fn=<AddmmBackward0>)\n"
          ]
        }
      ],
      "source": [
        "class DNN(nn.Module):\n",
        "  def __init__(self):\n",
        "    super().__init__()\n",
        "    self.linear1 = nn.Linear(4, 6)\n",
        "    self.act1 = nn.ReLU()\n",
        "    self.linear2 = nn.Linear(6, 4)\n",
        "    self.act2 = nn.ReLU()\n",
        "    self.linear3 = nn.Linear(4, 3)\n",
        "\n",
        "  def forward(self, x):\n",
        "    x = self.linear1(x)\n",
        "    x = self.act1(x)\n",
        "    x = self.linear2(x)\n",
        "    x = self.act2(x)\n",
        "    x = self.linear3(x)\n",
        "    return x\n",
        "\n",
        "lr = 0.001\n",
        "model = DNN()\n",
        "mse = torch.nn.CrossEntropyLoss()\n",
        "opt_SGD = torch.optim.SGD(model.parameters(), lr = lr)\n",
        "losses = []\n",
        "epochs_lst = []\n",
        "# Training step\n",
        "def fit(num_epochs, model, loss_fn, opt, train_dl):\n",
        "  for epoch in range(num_epochs):\n",
        "    for xb, yb in train_dl:\n",
        "      preds = model(xb)\n",
        "      loss = loss_fn(preds, yb)\n",
        "      loss.backward()\n",
        "      opt.step()\n",
        "      opt.zero_grad()\n",
        "    if epoch%100 == 99:\n",
        "      print(loss.item())\n",
        "      losses.append(loss.item())\n",
        "      epochs_lst.append(epoch)\n",
        "\n",
        "\n",
        "def drawGraph(losses, epoches_lst):\n",
        "  plt.plot(epochs_lst, losses)\n",
        "  plt.xlabel(\"Epochs\")\n",
        "  plt.ylabel(\"Loss\")\n",
        "  plt.show()\n",
        "\n",
        "\n",
        "fit(1000, model, mse, opt_SGD, train_dl)\n",
        "drawGraph(losses, epochs_lst)\n",
        "preds = model(X_test)\n",
        "print(preds)"
      ]
    },
    {
      "cell_type": "code",
      "execution_count": null,
      "metadata": {
        "colab": {
          "base_uri": "https://localhost:8080/"
        },
        "id": "7XmqeAVZqzSf",
        "outputId": "cfd7e34c-44e2-4ef2-b77a-cf5551baa325"
      },
      "outputs": [
        {
          "name": "stdout",
          "output_type": "stream",
          "text": [
            "virginica\n",
            "virginica\n",
            "virginica\n",
            "virginica\n",
            "virginica\n",
            "virginica\n",
            "virginica\n",
            "virginica\n",
            "virginica\n",
            "virginica\n",
            "virginica\n",
            "setosa\n",
            "setosa\n",
            "virginica\n",
            "setosa\n",
            "virginica\n",
            "setosa\n",
            "virginica\n",
            "setosa\n",
            "setosa\n",
            "virginica\n",
            "virginica\n",
            "setosa\n",
            "setosa\n",
            "virginica\n",
            "virginica\n",
            "virginica\n",
            "virginica\n",
            "setosa\n",
            "virginica\n"
          ]
        }
      ],
      "source": [
        "preds_new = torch.argmax(preds, dim=1)\n",
        "labels = {0: \"setosa\", 1: \"versicolor\", 2: \"virginica\"}\n",
        "for i in range(preds_new.numel()):\n",
        "  print(labels[preds_new[i].item()])"
      ]
    },
    {
      "cell_type": "code",
      "execution_count": null,
      "metadata": {
        "colab": {
          "base_uri": "https://localhost:8080/",
          "height": 990
        },
        "id": "U7lRhvZjqzSg",
        "outputId": "b91c9cd6-4616-48d8-be90-fa8fd8b0171d"
      },
      "outputs": [
        {
          "data": {
            "application/vnd.google.colaboratory.intrinsic+json": {
              "summary": "{\n  \"name\": \"pd\",\n  \"rows\": 30,\n  \"fields\": [\n    {\n      \"column\": \"preds\",\n      \"properties\": {\n        \"dtype\": \"number\",\n        \"std\": 0,\n        \"min\": 0,\n        \"max\": 2,\n        \"num_unique_values\": 2,\n        \"samples\": [\n          0,\n          2\n        ],\n        \"semantic_type\": \"\",\n        \"description\": \"\"\n      }\n    },\n    {\n      \"column\": \"labels\",\n      \"properties\": {\n        \"dtype\": \"number\",\n        \"std\": 0,\n        \"min\": 0,\n        \"max\": 2,\n        \"num_unique_values\": 3,\n        \"samples\": [\n          2,\n          1\n        ],\n        \"semantic_type\": \"\",\n        \"description\": \"\"\n      }\n    }\n  ]\n}",
              "type": "dataframe"
            },
            "text/html": [
              "\n",
              "  <div id=\"df-c0ebec31-2175-4c98-a296-533c1e953309\" class=\"colab-df-container\">\n",
              "    <div>\n",
              "<style scoped>\n",
              "    .dataframe tbody tr th:only-of-type {\n",
              "        vertical-align: middle;\n",
              "    }\n",
              "\n",
              "    .dataframe tbody tr th {\n",
              "        vertical-align: top;\n",
              "    }\n",
              "\n",
              "    .dataframe thead th {\n",
              "        text-align: right;\n",
              "    }\n",
              "</style>\n",
              "<table border=\"1\" class=\"dataframe\">\n",
              "  <thead>\n",
              "    <tr style=\"text-align: right;\">\n",
              "      <th></th>\n",
              "      <th>preds</th>\n",
              "      <th>labels</th>\n",
              "    </tr>\n",
              "  </thead>\n",
              "  <tbody>\n",
              "    <tr>\n",
              "      <th>0</th>\n",
              "      <td>2</td>\n",
              "      <td>2</td>\n",
              "    </tr>\n",
              "    <tr>\n",
              "      <th>1</th>\n",
              "      <td>2</td>\n",
              "      <td>2</td>\n",
              "    </tr>\n",
              "    <tr>\n",
              "      <th>2</th>\n",
              "      <td>2</td>\n",
              "      <td>2</td>\n",
              "    </tr>\n",
              "    <tr>\n",
              "      <th>3</th>\n",
              "      <td>2</td>\n",
              "      <td>1</td>\n",
              "    </tr>\n",
              "    <tr>\n",
              "      <th>4</th>\n",
              "      <td>2</td>\n",
              "      <td>2</td>\n",
              "    </tr>\n",
              "    <tr>\n",
              "      <th>5</th>\n",
              "      <td>2</td>\n",
              "      <td>1</td>\n",
              "    </tr>\n",
              "    <tr>\n",
              "      <th>6</th>\n",
              "      <td>2</td>\n",
              "      <td>2</td>\n",
              "    </tr>\n",
              "    <tr>\n",
              "      <th>7</th>\n",
              "      <td>2</td>\n",
              "      <td>1</td>\n",
              "    </tr>\n",
              "    <tr>\n",
              "      <th>8</th>\n",
              "      <td>2</td>\n",
              "      <td>2</td>\n",
              "    </tr>\n",
              "    <tr>\n",
              "      <th>9</th>\n",
              "      <td>2</td>\n",
              "      <td>2</td>\n",
              "    </tr>\n",
              "    <tr>\n",
              "      <th>10</th>\n",
              "      <td>2</td>\n",
              "      <td>2</td>\n",
              "    </tr>\n",
              "    <tr>\n",
              "      <th>11</th>\n",
              "      <td>0</td>\n",
              "      <td>0</td>\n",
              "    </tr>\n",
              "    <tr>\n",
              "      <th>12</th>\n",
              "      <td>0</td>\n",
              "      <td>0</td>\n",
              "    </tr>\n",
              "    <tr>\n",
              "      <th>13</th>\n",
              "      <td>2</td>\n",
              "      <td>1</td>\n",
              "    </tr>\n",
              "    <tr>\n",
              "      <th>14</th>\n",
              "      <td>0</td>\n",
              "      <td>0</td>\n",
              "    </tr>\n",
              "    <tr>\n",
              "      <th>15</th>\n",
              "      <td>2</td>\n",
              "      <td>2</td>\n",
              "    </tr>\n",
              "    <tr>\n",
              "      <th>16</th>\n",
              "      <td>0</td>\n",
              "      <td>0</td>\n",
              "    </tr>\n",
              "    <tr>\n",
              "      <th>17</th>\n",
              "      <td>2</td>\n",
              "      <td>1</td>\n",
              "    </tr>\n",
              "    <tr>\n",
              "      <th>18</th>\n",
              "      <td>0</td>\n",
              "      <td>0</td>\n",
              "    </tr>\n",
              "    <tr>\n",
              "      <th>19</th>\n",
              "      <td>0</td>\n",
              "      <td>0</td>\n",
              "    </tr>\n",
              "    <tr>\n",
              "      <th>20</th>\n",
              "      <td>2</td>\n",
              "      <td>1</td>\n",
              "    </tr>\n",
              "    <tr>\n",
              "      <th>21</th>\n",
              "      <td>2</td>\n",
              "      <td>2</td>\n",
              "    </tr>\n",
              "    <tr>\n",
              "      <th>22</th>\n",
              "      <td>0</td>\n",
              "      <td>0</td>\n",
              "    </tr>\n",
              "    <tr>\n",
              "      <th>23</th>\n",
              "      <td>0</td>\n",
              "      <td>0</td>\n",
              "    </tr>\n",
              "    <tr>\n",
              "      <th>24</th>\n",
              "      <td>2</td>\n",
              "      <td>1</td>\n",
              "    </tr>\n",
              "    <tr>\n",
              "      <th>25</th>\n",
              "      <td>2</td>\n",
              "      <td>1</td>\n",
              "    </tr>\n",
              "    <tr>\n",
              "      <th>26</th>\n",
              "      <td>2</td>\n",
              "      <td>1</td>\n",
              "    </tr>\n",
              "    <tr>\n",
              "      <th>27</th>\n",
              "      <td>2</td>\n",
              "      <td>1</td>\n",
              "    </tr>\n",
              "    <tr>\n",
              "      <th>28</th>\n",
              "      <td>0</td>\n",
              "      <td>0</td>\n",
              "    </tr>\n",
              "    <tr>\n",
              "      <th>29</th>\n",
              "      <td>2</td>\n",
              "      <td>1</td>\n",
              "    </tr>\n",
              "  </tbody>\n",
              "</table>\n",
              "</div>\n",
              "    <div class=\"colab-df-buttons\">\n",
              "\n",
              "  <div class=\"colab-df-container\">\n",
              "    <button class=\"colab-df-convert\" onclick=\"convertToInteractive('df-c0ebec31-2175-4c98-a296-533c1e953309')\"\n",
              "            title=\"Convert this dataframe to an interactive table.\"\n",
              "            style=\"display:none;\">\n",
              "\n",
              "  <svg xmlns=\"http://www.w3.org/2000/svg\" height=\"24px\" viewBox=\"0 -960 960 960\">\n",
              "    <path d=\"M120-120v-720h720v720H120Zm60-500h600v-160H180v160Zm220 220h160v-160H400v160Zm0 220h160v-160H400v160ZM180-400h160v-160H180v160Zm440 0h160v-160H620v160ZM180-180h160v-160H180v160Zm440 0h160v-160H620v160Z\"/>\n",
              "  </svg>\n",
              "    </button>\n",
              "\n",
              "  <style>\n",
              "    .colab-df-container {\n",
              "      display:flex;\n",
              "      gap: 12px;\n",
              "    }\n",
              "\n",
              "    .colab-df-convert {\n",
              "      background-color: #E8F0FE;\n",
              "      border: none;\n",
              "      border-radius: 50%;\n",
              "      cursor: pointer;\n",
              "      display: none;\n",
              "      fill: #1967D2;\n",
              "      height: 32px;\n",
              "      padding: 0 0 0 0;\n",
              "      width: 32px;\n",
              "    }\n",
              "\n",
              "    .colab-df-convert:hover {\n",
              "      background-color: #E2EBFA;\n",
              "      box-shadow: 0px 1px 2px rgba(60, 64, 67, 0.3), 0px 1px 3px 1px rgba(60, 64, 67, 0.15);\n",
              "      fill: #174EA6;\n",
              "    }\n",
              "\n",
              "    .colab-df-buttons div {\n",
              "      margin-bottom: 4px;\n",
              "    }\n",
              "\n",
              "    [theme=dark] .colab-df-convert {\n",
              "      background-color: #3B4455;\n",
              "      fill: #D2E3FC;\n",
              "    }\n",
              "\n",
              "    [theme=dark] .colab-df-convert:hover {\n",
              "      background-color: #434B5C;\n",
              "      box-shadow: 0px 1px 3px 1px rgba(0, 0, 0, 0.15);\n",
              "      filter: drop-shadow(0px 1px 2px rgba(0, 0, 0, 0.3));\n",
              "      fill: #FFFFFF;\n",
              "    }\n",
              "  </style>\n",
              "\n",
              "    <script>\n",
              "      const buttonEl =\n",
              "        document.querySelector('#df-c0ebec31-2175-4c98-a296-533c1e953309 button.colab-df-convert');\n",
              "      buttonEl.style.display =\n",
              "        google.colab.kernel.accessAllowed ? 'block' : 'none';\n",
              "\n",
              "      async function convertToInteractive(key) {\n",
              "        const element = document.querySelector('#df-c0ebec31-2175-4c98-a296-533c1e953309');\n",
              "        const dataTable =\n",
              "          await google.colab.kernel.invokeFunction('convertToInteractive',\n",
              "                                                    [key], {});\n",
              "        if (!dataTable) return;\n",
              "\n",
              "        const docLinkHtml = 'Like what you see? Visit the ' +\n",
              "          '<a target=\"_blank\" href=https://colab.research.google.com/notebooks/data_table.ipynb>data table notebook</a>'\n",
              "          + ' to learn more about interactive tables.';\n",
              "        element.innerHTML = '';\n",
              "        dataTable['output_type'] = 'display_data';\n",
              "        await google.colab.output.renderOutput(dataTable, element);\n",
              "        const docLink = document.createElement('div');\n",
              "        docLink.innerHTML = docLinkHtml;\n",
              "        element.appendChild(docLink);\n",
              "      }\n",
              "    </script>\n",
              "  </div>\n",
              "\n",
              "\n",
              "<div id=\"df-171ae40d-57e9-49d0-b6d9-51730f740827\">\n",
              "  <button class=\"colab-df-quickchart\" onclick=\"quickchart('df-171ae40d-57e9-49d0-b6d9-51730f740827')\"\n",
              "            title=\"Suggest charts\"\n",
              "            style=\"display:none;\">\n",
              "\n",
              "<svg xmlns=\"http://www.w3.org/2000/svg\" height=\"24px\"viewBox=\"0 0 24 24\"\n",
              "     width=\"24px\">\n",
              "    <g>\n",
              "        <path d=\"M19 3H5c-1.1 0-2 .9-2 2v14c0 1.1.9 2 2 2h14c1.1 0 2-.9 2-2V5c0-1.1-.9-2-2-2zM9 17H7v-7h2v7zm4 0h-2V7h2v10zm4 0h-2v-4h2v4z\"/>\n",
              "    </g>\n",
              "</svg>\n",
              "  </button>\n",
              "\n",
              "<style>\n",
              "  .colab-df-quickchart {\n",
              "      --bg-color: #E8F0FE;\n",
              "      --fill-color: #1967D2;\n",
              "      --hover-bg-color: #E2EBFA;\n",
              "      --hover-fill-color: #174EA6;\n",
              "      --disabled-fill-color: #AAA;\n",
              "      --disabled-bg-color: #DDD;\n",
              "  }\n",
              "\n",
              "  [theme=dark] .colab-df-quickchart {\n",
              "      --bg-color: #3B4455;\n",
              "      --fill-color: #D2E3FC;\n",
              "      --hover-bg-color: #434B5C;\n",
              "      --hover-fill-color: #FFFFFF;\n",
              "      --disabled-bg-color: #3B4455;\n",
              "      --disabled-fill-color: #666;\n",
              "  }\n",
              "\n",
              "  .colab-df-quickchart {\n",
              "    background-color: var(--bg-color);\n",
              "    border: none;\n",
              "    border-radius: 50%;\n",
              "    cursor: pointer;\n",
              "    display: none;\n",
              "    fill: var(--fill-color);\n",
              "    height: 32px;\n",
              "    padding: 0;\n",
              "    width: 32px;\n",
              "  }\n",
              "\n",
              "  .colab-df-quickchart:hover {\n",
              "    background-color: var(--hover-bg-color);\n",
              "    box-shadow: 0 1px 2px rgba(60, 64, 67, 0.3), 0 1px 3px 1px rgba(60, 64, 67, 0.15);\n",
              "    fill: var(--button-hover-fill-color);\n",
              "  }\n",
              "\n",
              "  .colab-df-quickchart-complete:disabled,\n",
              "  .colab-df-quickchart-complete:disabled:hover {\n",
              "    background-color: var(--disabled-bg-color);\n",
              "    fill: var(--disabled-fill-color);\n",
              "    box-shadow: none;\n",
              "  }\n",
              "\n",
              "  .colab-df-spinner {\n",
              "    border: 2px solid var(--fill-color);\n",
              "    border-color: transparent;\n",
              "    border-bottom-color: var(--fill-color);\n",
              "    animation:\n",
              "      spin 1s steps(1) infinite;\n",
              "  }\n",
              "\n",
              "  @keyframes spin {\n",
              "    0% {\n",
              "      border-color: transparent;\n",
              "      border-bottom-color: var(--fill-color);\n",
              "      border-left-color: var(--fill-color);\n",
              "    }\n",
              "    20% {\n",
              "      border-color: transparent;\n",
              "      border-left-color: var(--fill-color);\n",
              "      border-top-color: var(--fill-color);\n",
              "    }\n",
              "    30% {\n",
              "      border-color: transparent;\n",
              "      border-left-color: var(--fill-color);\n",
              "      border-top-color: var(--fill-color);\n",
              "      border-right-color: var(--fill-color);\n",
              "    }\n",
              "    40% {\n",
              "      border-color: transparent;\n",
              "      border-right-color: var(--fill-color);\n",
              "      border-top-color: var(--fill-color);\n",
              "    }\n",
              "    60% {\n",
              "      border-color: transparent;\n",
              "      border-right-color: var(--fill-color);\n",
              "    }\n",
              "    80% {\n",
              "      border-color: transparent;\n",
              "      border-right-color: var(--fill-color);\n",
              "      border-bottom-color: var(--fill-color);\n",
              "    }\n",
              "    90% {\n",
              "      border-color: transparent;\n",
              "      border-bottom-color: var(--fill-color);\n",
              "    }\n",
              "  }\n",
              "</style>\n",
              "\n",
              "  <script>\n",
              "    async function quickchart(key) {\n",
              "      const quickchartButtonEl =\n",
              "        document.querySelector('#' + key + ' button');\n",
              "      quickchartButtonEl.disabled = true;  // To prevent multiple clicks.\n",
              "      quickchartButtonEl.classList.add('colab-df-spinner');\n",
              "      try {\n",
              "        const charts = await google.colab.kernel.invokeFunction(\n",
              "            'suggestCharts', [key], {});\n",
              "      } catch (error) {\n",
              "        console.error('Error during call to suggestCharts:', error);\n",
              "      }\n",
              "      quickchartButtonEl.classList.remove('colab-df-spinner');\n",
              "      quickchartButtonEl.classList.add('colab-df-quickchart-complete');\n",
              "    }\n",
              "    (() => {\n",
              "      let quickchartButtonEl =\n",
              "        document.querySelector('#df-171ae40d-57e9-49d0-b6d9-51730f740827 button');\n",
              "      quickchartButtonEl.style.display =\n",
              "        google.colab.kernel.accessAllowed ? 'block' : 'none';\n",
              "    })();\n",
              "  </script>\n",
              "</div>\n",
              "\n",
              "    </div>\n",
              "  </div>\n"
            ],
            "text/plain": [
              "    preds  labels\n",
              "0       2       2\n",
              "1       2       2\n",
              "2       2       2\n",
              "3       2       1\n",
              "4       2       2\n",
              "5       2       1\n",
              "6       2       2\n",
              "7       2       1\n",
              "8       2       2\n",
              "9       2       2\n",
              "10      2       2\n",
              "11      0       0\n",
              "12      0       0\n",
              "13      2       1\n",
              "14      0       0\n",
              "15      2       2\n",
              "16      0       0\n",
              "17      2       1\n",
              "18      0       0\n",
              "19      0       0\n",
              "20      2       1\n",
              "21      2       2\n",
              "22      0       0\n",
              "23      0       0\n",
              "24      2       1\n",
              "25      2       1\n",
              "26      2       1\n",
              "27      2       1\n",
              "28      0       0\n",
              "29      2       1"
            ]
          },
          "execution_count": 56,
          "metadata": {},
          "output_type": "execute_result"
        }
      ],
      "source": [
        "pd.DataFrame({'preds': preds_new.numpy(), 'labels': y_test.numpy()})"
      ]
    },
    {
      "cell_type": "code",
      "execution_count": null,
      "metadata": {
        "id": "3p871QMZqzSg"
      },
      "outputs": [],
      "source": []
    },
    {
      "cell_type": "markdown",
      "metadata": {
        "id": "vtu-V0OOgt2f"
      },
      "source": [
        "# **CNN**"
      ]
    },
    {
      "cell_type": "markdown",
      "metadata": {
        "id": "Ndn3ejU4gz8D"
      },
      "source": [
        "Convolution Process using numpy"
      ]
    },
    {
      "cell_type": "code",
      "execution_count": null,
      "metadata": {
        "colab": {
          "base_uri": "https://localhost:8080/"
        },
        "id": "mbNvxTAdmFg3",
        "outputId": "977b38c9-317b-4576-9064-bfb2b75b5967"
      },
      "outputs": [
        {
          "output_type": "stream",
          "name": "stdout",
          "text": [
            "Mounted at /content/drive\n"
          ]
        }
      ],
      "source": [
        "from google.colab import drive\n",
        "\n",
        "# Mount Google Drive\n",
        "drive.mount('/content/drive')"
      ]
    },
    {
      "cell_type": "code",
      "execution_count": null,
      "metadata": {
        "id": "PB1e_6aXW3Cf"
      },
      "outputs": [],
      "source": [
        "import numpy as np\n",
        "import matplotlib.pyplot as plt\n",
        "from PIL import Image\n",
        "\n",
        "# Function to perform convolution\n",
        "def convolve2d(image, kernel):\n",
        "    kernel_height, kernel_width = kernel.shape\n",
        "    image_height, image_width = image.shape\n",
        "\n",
        "    output_height = image_height - kernel_height + 1\n",
        "    output_width = image_width - kernel_width + 1\n",
        "\n",
        "    output = np.zeros((output_height, output_width))\n",
        "\n",
        "    for i in range(output_height):\n",
        "        for j in range(output_width):\n",
        "            patch = image[i:i+kernel_height, j:j+kernel_width]\n",
        "            output[i, j] = np.sum(patch * kernel)\n",
        "\n",
        "    return output\n",
        "\n",
        "\n",
        "# Function to perform max pooling\n",
        "def max_pooling(image, pool_size):\n",
        "    pool_height, pool_width = pool_size\n",
        "    image_height, image_width = image.shape\n",
        "\n",
        "    output_height = image_height // pool_height\n",
        "    output_width = image_width // pool_width\n",
        "\n",
        "    output = np.zeros((output_height, output_width))\n",
        "\n",
        "    for i in range(output_height):\n",
        "        for j in range(output_width):\n",
        "            patch = image[i*pool_height:(i+1)*pool_height, j*pool_width:(j+1)*pool_width]\n",
        "            output[i, j] = np.max(patch)\n",
        "\n",
        "    return output\n"
      ]
    },
    {
      "cell_type": "code",
      "execution_count": null,
      "metadata": {
        "id": "IC8-fpW_W2--",
        "colab": {
          "base_uri": "https://localhost:8080/"
        },
        "outputId": "c4e75215-c05d-4d4e-cb64-86dee517ba71"
      },
      "outputs": [
        {
          "output_type": "execute_result",
          "data": {
            "text/plain": [
              "Text(0.5, 1.0, 'Max Pooled Image')"
            ]
          },
          "metadata": {},
          "execution_count": 13
        },
        {
          "output_type": "display_data",
          "data": {
            "text/plain": [
              "<Figure size 1500x500 with 3 Axes>"
            ],
            "image/png": "[encoded data removed]"
          },
          "metadata": {}
        }
      ],
      "source": [
        "image_path = r\"/content/drive/MyDrive/Dataset/images.jpeg\"\n",
        "image = Image.open(image_path).convert('L')  # Convert to grayscale\n",
        "image = np.array(image)\n",
        "\n",
        "# image = np.random.rand(5, 5)\n",
        "\n",
        "# Define a kernel (e.g., edge detection)\n",
        "kernel = np.array([\n",
        "    [1, 0, -1],\n",
        "    [1, 0, -1],\n",
        "    [1, 0, -1]\n",
        "])\n",
        "\n",
        "# Apply convolution\n",
        "convolved_image = convolve2d(image, kernel)\n",
        "\n",
        "max_pooling_img = max_pooling(convolved_image, (2, 2))\n",
        "\n",
        "# Plot the results\n",
        "fig, axes = plt.subplots(1, 3, figsize=(15, 5))\n",
        "axes[0].imshow(image, cmap='gray')\n",
        "axes[0].set_title('Original Image')\n",
        "axes[1].imshow(convolved_image, cmap='gray')\n",
        "axes[1].set_title('Convolved Image')\n",
        "axes[2].imshow(max_pooling_img, cmap='gray')\n",
        "axes[2].set_title('Max Pooled Image')"
      ]
    },
    {
      "cell_type": "code",
      "execution_count": null,
      "metadata": {
        "id": "xe7qidi5W289",
        "colab": {
          "base_uri": "https://localhost:8080/"
        },
        "outputId": "b9bc930e-94bc-4e83-c203-5a4beb2798b4"
      },
      "outputs": [
        {
          "output_type": "execute_result",
          "data": {
            "text/plain": [
              "array([[0.09865053, 0.52521243, 0.36051894, 0.21917541, 0.96039324],\n",
              "       [0.36312466, 0.20557749, 0.09425741, 0.21215107, 0.04927506],\n",
              "       [0.7737655 , 0.10031832, 0.44264185, 0.97337431, 0.33021284],\n",
              "       [0.11717513, 0.63664965, 0.31029961, 0.4635026 , 0.76889252],\n",
              "       [0.45942061, 0.89752827, 0.7664678 , 0.72507998, 0.83271031]])"
            ]
          },
          "metadata": {},
          "execution_count": 2
        }
      ],
      "source": [
        "image = np.random.rand(5, 5)\n",
        "image"
      ]
    },
    {
      "cell_type": "markdown",
      "source": [
        "Convolution and Pooling using Pytorch"
      ],
      "metadata": {
        "id": "Kbscvi23wKvu"
      }
    },
    {
      "cell_type": "code",
      "execution_count": null,
      "metadata": {
        "id": "sud58LClW23n",
        "colab": {
          "base_uri": "https://localhost:8080/"
        },
        "outputId": "9354f254-9c04-4465-844a-4356a496d5e4"
      },
      "outputs": [
        {
          "output_type": "stream",
          "name": "stdout",
          "text": [
            "Input Image Shape: torch.Size([1, 1, 225, 225])\n"
          ]
        },
        {
          "output_type": "display_data",
          "data": {
            "text/plain": [
              "<Figure size 640x480 with 1 Axes>"
            ],
            "image/png": "[encoded data removed]"
          },
          "metadata": {}
        },
        {
          "output_type": "stream",
          "name": "stdout",
          "text": [
            "Input Image Shape: torch.Size([1, 1, 225, 225])\n"
          ]
        },
        {
          "output_type": "display_data",
          "data": {
            "text/plain": [
              "<Figure size 640x480 with 1 Axes>"
            ],
            "image/png": "[encoded data removed]"
          },
          "metadata": {}
        },
        {
          "output_type": "stream",
          "name": "stdout",
          "text": [
            "Conv Image Shape: torch.Size([1, 1, 223, 223])\n"
          ]
        },
        {
          "output_type": "display_data",
          "data": {
            "text/plain": [
              "<Figure size 640x480 with 1 Axes>"
            ],
            "image/png": "[encoded data removed]"
          },
          "metadata": {}
        },
        {
          "output_type": "stream",
          "name": "stdout",
          "text": [
            "Pooling Image Shape: torch.Size([1, 1, 111, 111])\n"
          ]
        }
      ],
      "source": [
        "import torch\n",
        "import torch.nn as nn\n",
        "from PIL import Image\n",
        "import numpy as np\n",
        "import matplotlib.pyplot as plt\n",
        "\n",
        "# Load and preprocess the image\n",
        "def load_image(image_path, image_size=(128, 128)):\n",
        "    image = Image.open(image_path).convert('L')  # Convert to grayscale\n",
        "    # image = image.resize(image_size)             # Resize the image\n",
        "    image = np.array(image)                      # Convert to numpy array\n",
        "    image = torch.tensor(image, dtype=torch.float32)  # Convert to torch tensor\n",
        "    image = image.unsqueeze(0).unsqueeze(0)      # Add batch and channel dimensions\n",
        "    return image\n",
        "\n",
        "# Path to the image\n",
        "image_path = r\"/content/drive/MyDrive/Dataset/images.jpeg\"\n",
        "\n",
        "# Load the image\n",
        "input_image = load_image(image_path)\n",
        "print(\"Input Image Shape:\", input_image.shape)\n",
        "\n",
        "# Define a convolutional layer\n",
        "conv_layer = nn.Conv2d(in_channels=1, out_channels=1, kernel_size=3, stride=1, padding=0)\n",
        "\n",
        "# Set a specific filter for the convolutional layer\n",
        "conv_layer.weight = nn.Parameter(torch.tensor([[[[1, 0, -1],\n",
        "                                                 [1, 0, -1],\n",
        "                                                 [1, 0, -1]]]], dtype=torch.float32))\n",
        "\n",
        "# Perform convolution\n",
        "conv_output = conv_layer(input_image)\n",
        "max_pooling_layer = nn.MaxPool2d(kernel_size=2, stride=2)\n",
        "max_pooling_img = max_pooling_layer(conv_output)\n",
        "\n",
        "# Display the image\n",
        "plt.imshow(input_image[0, 0].numpy(), cmap='gray')\n",
        "plt.title(\"Input Image\")\n",
        "plt.show()\n",
        "print(\"Input Image Shape:\", input_image.shape)\n",
        "\n",
        "# Display the image\n",
        "plt.imshow(conv_output[0, 0].detach().numpy(), cmap='gray')\n",
        "plt.title(\"Conv Image\")\n",
        "plt.show()\n",
        "print(\"Conv Image Shape:\", conv_output.shape)\n",
        "\n",
        "# Display the image\n",
        "plt.imshow(max_pooling_img[0, 0].detach().numpy(), cmap='gray')\n",
        "plt.title(\"Pooling Image\")\n",
        "plt.show()\n",
        "print(\"Pooling Image Shape:\", max_pooling_img.shape)"
      ]
    },
    {
      "cell_type": "code",
      "source": [],
      "metadata": {
        "id": "wr6ZU2i59B-b"
      },
      "execution_count": null,
      "outputs": []
    },
    {
      "cell_type": "markdown",
      "source": [
        "# CNN for **Brain** Tumor Detection Using Pytorch"
      ],
      "metadata": {
        "id": "pm5NhWmi847k"
      }
    },
    {
      "cell_type": "code",
      "source": [
        "!pip install split-folders"
      ],
      "metadata": {
        "colab": {
          "base_uri": "https://localhost:8080/"
        },
        "id": "C62U3-1vkS_C",
        "outputId": "7ac7cc3e-c532-42d8-c5c1-05804a739f7f"
      },
      "execution_count": null,
      "outputs": [
        {
          "output_type": "stream",
          "name": "stdout",
          "text": [
            "Collecting split-folders\n",
            "  Downloading split_folders-0.5.1-py3-none-any.whl (8.4 kB)\n",
            "Installing collected packages: split-folders\n",
            "Successfully installed split-folders-0.5.1\n"
          ]
        }
      ]
    },
    {
      "cell_type": "code",
      "source": [
        "import numpy as np\n",
        "import matplotlib.pyplot as plt\n",
        "import copy\n",
        "import os\n",
        "import torch\n",
        "from PIL import Image\n",
        "from torch.utils.data import Dataset\n",
        "import torchvision\n",
        "import torchvision.transforms as transforms\n",
        "from torch.optim.lr_scheduler import ReduceLROnPlateau\n",
        "import torch.nn as nn\n",
        "from torchvision import utils\n",
        "from torchvision.datasets import ImageFolder\n",
        "from torchsummary import summary\n",
        "import splitfolders\n",
        "import torch.nn.functional as F\n",
        "import pathlib\n",
        "from torch import optim"
      ],
      "metadata": {
        "id": "JYk2-gMMfUIs"
      },
      "execution_count": null,
      "outputs": []
    },
    {
      "cell_type": "code",
      "execution_count": null,
      "metadata": {
        "id": "KV5-aDKuW2zj",
        "colab": {
          "base_uri": "https://localhost:8080/"
        },
        "outputId": "77075bbb-9801-48ef-a00d-a0cf75877d8a"
      },
      "outputs": [
        {
          "output_type": "stream",
          "name": "stdout",
          "text": [
            "Mounted at /content/drive\n"
          ]
        }
      ],
      "source": [
        "from google.colab import drive\n",
        "\n",
        "# Mount Google Drive\n",
        "drive.mount('/content/drive')"
      ]
    },
    {
      "cell_type": "code",
      "execution_count": null,
      "metadata": {
        "id": "hMib9_awW2xu"
      },
      "outputs": [],
      "source": [
        "import zipfile\n",
        "\n",
        "# Step 2: Specify the path to the zip file in Google Drive\n",
        "zip_file_path = '/content/drive/MyDrive/Brain Tumor Data Set.zip'\n",
        "extract_dir = '/content/drive/MyDrive/Brain Tumor Data Set'\n",
        "\n",
        "# Ensure the extract directory exists\n",
        "os.makedirs(extract_dir, exist_ok=True)\n",
        "\n",
        "# Step 3: Unzip the file\n",
        "with zipfile.ZipFile(zip_file_path, 'r') as zip_ref:\n",
        "    zip_ref.extractall(extract_dir)"
      ]
    },
    {
      "cell_type": "code",
      "execution_count": null,
      "metadata": {
        "id": "y49SUxdjW2t-",
        "colab": {
          "base_uri": "https://localhost:8080/"
        },
        "outputId": "5f16378e-8782-4699-fc9a-0c0afd9708c1"
      },
      "outputs": [
        {
          "output_type": "execute_result",
          "data": {
            "text/plain": [
              "['Brain Tumor', 'Healthy']"
            ]
          },
          "metadata": {},
          "execution_count": 4
        }
      ],
      "source": [
        "os.listdir(\"/content/drive/MyDrive/Brain Tumor Data Set/Brain Tumor Data Set\")"
      ]
    },
    {
      "cell_type": "code",
      "execution_count": null,
      "metadata": {
        "id": "13DYWSqqW2sT",
        "colab": {
          "base_uri": "https://localhost:8080/"
        },
        "outputId": "fd687b31-d23b-4385-bbca-78f816f8e421"
      },
      "outputs": [
        {
          "output_type": "stream",
          "name": "stderr",
          "text": [
            "Copying files: 4600 files [02:45, 27.82 files/s] \n"
          ]
        }
      ],
      "source": [
        "data_dir = \"/content/drive/MyDrive/Brain Tumor Data Set/Brain Tumor Data Set\"\n",
        "data_dir = pathlib.Path(data_dir)\n",
        "\n",
        "splitfolders.ratio(data_dir, output='brain', seed=41, ratio=(0.8, 0.2))"
      ]
    },
    {
      "cell_type": "code",
      "execution_count": null,
      "metadata": {
        "id": "XPFRMudjW2oa"
      },
      "outputs": [],
      "source": [
        "data_dir = \"/content/brain\"\n",
        "data_dir = pathlib.Path(data_dir)"
      ]
    },
    {
      "cell_type": "code",
      "execution_count": null,
      "metadata": {
        "id": "De4TXyzwW2nD"
      },
      "outputs": [],
      "source": [
        "transform = transforms.Compose(\n",
        "    [\n",
        "        transforms.Resize((128,128)),\n",
        "        transforms.RandomHorizontalFlip(p=0.5),\n",
        "        transforms.RandomVerticalFlip(p=0.5),\n",
        "        transforms.RandomRotation(30),\n",
        "        transforms.ToTensor(),\n",
        "        transforms.Normalize(mean=[0.485, 0.456, 0.406], std=[0.229, 0.224, 0.225])\n",
        "    ]\n",
        ")"
      ]
    },
    {
      "cell_type": "code",
      "execution_count": null,
      "metadata": {
        "id": "8-3ctO27W2i1",
        "colab": {
          "base_uri": "https://localhost:8080/"
        },
        "outputId": "24a7cfab-b506-4eb5-a4cd-2622af08d839"
      },
      "outputs": [
        {
          "output_type": "execute_result",
          "data": {
            "text/plain": [
              "Compose(\n",
              "    Resize(size=(128, 128), interpolation=bilinear, max_size=None, antialias=True)\n",
              "    RandomHorizontalFlip(p=0.5)\n",
              "    RandomVerticalFlip(p=0.5)\n",
              "    RandomRotation(degrees=[-30.0, 30.0], interpolation=nearest, expand=False, fill=0)\n",
              "    ToTensor()\n",
              "    Normalize(mean=[0.485, 0.456, 0.406], std=[0.229, 0.224, 0.225])\n",
              ")"
            ]
          },
          "metadata": {},
          "execution_count": 8
        }
      ],
      "source": [
        "train_set = torchvision.datasets.ImageFolder(data_dir.joinpath('train'), transform=transform)\n",
        "train_set.transform\n",
        "val_set = torchvision.datasets.ImageFolder(data_dir.joinpath('val'), transform=transform)\n",
        "val_set.transform"
      ]
    },
    {
      "cell_type": "code",
      "execution_count": null,
      "metadata": {
        "id": "PAv9h6qbW2hY",
        "colab": {
          "base_uri": "https://localhost:8080/"
        },
        "outputId": "82ab1e33-83b6-4e3a-e378-cb05bf8c28aa"
      },
      "outputs": [
        {
          "output_type": "stream",
          "name": "stdout",
          "text": [
            "Dataset ImageFolder\n",
            "    Number of datapoints: 3679\n",
            "    Root location: /content/brain/train\n",
            "    StandardTransform\n",
            "Transform: Compose(\n",
            "               Resize(size=(128, 128), interpolation=bilinear, max_size=None, antialias=True)\n",
            "               RandomHorizontalFlip(p=0.5)\n",
            "               RandomVerticalFlip(p=0.5)\n",
            "               RandomRotation(degrees=[-30.0, 30.0], interpolation=nearest, expand=False, fill=0)\n",
            "               ToTensor()\n",
            "               Normalize(mean=[0.485, 0.456, 0.406], std=[0.229, 0.224, 0.225])\n",
            "           )\n"
          ]
        }
      ],
      "source": [
        "print(train_set)"
      ]
    },
    {
      "cell_type": "code",
      "execution_count": null,
      "metadata": {
        "id": "qQ2eoeHfW2dh",
        "colab": {
          "base_uri": "https://localhost:8080/",
          "height": 469
        },
        "outputId": "87b196f0-0d72-48f8-f95c-9e9ff4c77dc0"
      },
      "outputs": [
        {
          "output_type": "stream",
          "name": "stderr",
          "text": [
            "WARNING:matplotlib.image:Clipping input data to the valid range for imshow with RGB data ([0..1] for floats or [0..255] for integers).\n"
          ]
        },
        {
          "output_type": "execute_result",
          "data": {
            "text/plain": [
              "<matplotlib.image.AxesImage at 0x7a5acb465ae0>"
            ]
          },
          "metadata": {},
          "execution_count": 10
        },
        {
          "output_type": "display_data",
          "data": {
            "text/plain": [
              "<Figure size 640x480 with 1 Axes>"
            ],
            "image/png": "[encoded data removed]"
          },
          "metadata": {}
        }
      ],
      "source": [
        "img, label = train_set[1000]\n",
        "plt.imshow(img.permute(1,2,0))"
      ]
    },
    {
      "cell_type": "code",
      "source": [
        "batch_size = 64\n",
        "train_loader = torch.utils.data.DataLoader(train_set, batch_size=batch_size, shuffle=True, num_workers=2, pin_memory=True)\n",
        "val_loader = torch.utils.data.DataLoader(val_set, batch_size=batch_size, shuffle=True, num_workers=2, pin_memory=True)"
      ],
      "metadata": {
        "id": "_Tw8QBLFqV3F"
      },
      "execution_count": null,
      "outputs": []
    },
    {
      "cell_type": "code",
      "source": [
        "next(iter(val_loader))[0].shape"
      ],
      "metadata": {
        "colab": {
          "base_uri": "https://localhost:8080/"
        },
        "id": "pnnS0iXfqVvv",
        "outputId": "fded2039-7d11-4818-f0f2-7561566c8039"
      },
      "execution_count": null,
      "outputs": [
        {
          "output_type": "execute_result",
          "data": {
            "text/plain": [
              "torch.Size([64, 3, 128, 128])"
            ]
          },
          "metadata": {},
          "execution_count": 12
        }
      ]
    },
    {
      "cell_type": "code",
      "source": [
        "class CNNModel(nn.Module):\n",
        "  def __init__(self):\n",
        "    super(CNNModel, self).__init__()\n",
        "\n",
        "    #Conv 1\n",
        "    self.cnv1 = nn.Conv2d(in_channels=3, out_channels=16, kernel_size=5, stride=1, padding=0) #128-5+1=124\n",
        "\n",
        "    #Max Pool 1\n",
        "    self.maxpool1 = nn.MaxPool2d(kernel_size=2) #124/2 = 64\n",
        "\n",
        "    #Conv 2\n",
        "    self.cnv2 = nn.Conv2d(in_channels=16, out_channels=32, kernel_size=5, stride=1, padding=0) #60\n",
        "\n",
        "    #Max Pool 2\n",
        "    self.maxpool2 = nn.MaxPool2d(kernel_size=2) #30\n",
        "\n",
        "    #Conv 3\n",
        "    self.cnv3 = nn.Conv2d(in_channels=32, out_channels=64, kernel_size=5, stride=1, padding=0) #26\n",
        "\n",
        "    #Max Pool 3\n",
        "    self.maxpool3 = nn.MaxPool2d(kernel_size=2) #13\n",
        "\n",
        "    #Conv 4\n",
        "    self.cnv4 = nn.Conv2d(in_channels=64, out_channels=128, kernel_size=5, stride=1, padding=0) #9\n",
        "\n",
        "    #Max Pool 4\n",
        "    self.maxpool4 = nn.MaxPool2d(kernel_size=2) #4\n",
        "\n",
        "    #Activation Function\n",
        "    self.leakyRelu = nn.LeakyReLU()\n",
        "\n",
        "    #Fully connected Layer 1\n",
        "    self.fc1 = nn.Linear(128*4*4, 1024)\n",
        "\n",
        "    #Fully connected Layer 2\n",
        "    self.fc2 = nn.Linear(1024, 2)\n",
        "\n",
        "  def forward(self, x):\n",
        "    #Layer 1\n",
        "    out = self.leakyRelu(self.cnv1(x))\n",
        "    out = self.maxpool1(out)\n",
        "\n",
        "    #Layer 2\n",
        "    out = self.leakyRelu(self.cnv2(out))\n",
        "    out = self.maxpool2(out)\n",
        "\n",
        "    #Layer 3\n",
        "    out = self.leakyRelu(self.cnv3(out))\n",
        "    out = self.maxpool3(out)\n",
        "\n",
        "    #Layer 4\n",
        "    out = self.leakyRelu(self.cnv4(out))\n",
        "    out = self.maxpool4(out)\n",
        "\n",
        "    #flatten\n",
        "    out = out.view(out.size(0), -1)\n",
        "\n",
        "    # Linear Function\n",
        "    out = self.leakyRelu(self.fc1(out))\n",
        "    out = self.fc2(out)\n",
        "\n",
        "    return out\n",
        "\n"
      ],
      "metadata": {
        "id": "iw8GobieqVor"
      },
      "execution_count": null,
      "outputs": []
    },
    {
      "cell_type": "code",
      "source": [
        "# Training CNN\n",
        "num_epochs = 10\n",
        "model = CNNModel()\n",
        "error = nn.CrossEntropyLoss()\n",
        "\n",
        "lr = 0.001\n",
        "optimizer = optim.Adam(model.parameters(), lr=lr)\n",
        "scheduler = ReduceLROnPlateau(optimizer, mode='min', factor=0.5, patience=5)"
      ],
      "metadata": {
        "id": "QiD2W_6qqVkY"
      },
      "execution_count": null,
      "outputs": []
    },
    {
      "cell_type": "code",
      "source": [
        "train_loss_list = []\n",
        "val_loss_list = []\n",
        "accuracy_list = []\n",
        "\n",
        "for epoch in range(num_epochs):\n",
        "  train_loss = 0\n",
        "  val_loss = 0\n",
        "  for i, (images, labels) in enumerate(train_loader):\n",
        "\n",
        "    optimizer.zero_grad()\n",
        "    outputs = model(images)\n",
        "    loss = error(outputs, labels)\n",
        "    train_loss+=loss.item()\n",
        "    loss.backward()\n",
        "    optimizer.step()\n",
        "    print(\"Loss in Iteration:\", i, \":\", loss.item())\n",
        "  total = 0\n",
        "  correct = 0\n",
        "  for images, labels in val_loader:\n",
        "    outputs = model(images)\n",
        "    v_loss = error(outputs, labels)\n",
        "    val_loss+=v_loss.item()\n",
        "    predicted = torch.max(outputs.data, 1)[1]\n",
        "\n",
        "    total+=len(labels)\n",
        "    correct+=(predicted==labels).sum()\n",
        "\n",
        "\n",
        "  scheduler.step(val_loss/len(val_loader))\n",
        "  accuracy = 100*correct/float(total)\n",
        "  train_loss_list.append(train_loss/len(train_loader))\n",
        "  val_loss_list.append(val_loss/len(val_loader))\n",
        "  accuracy_list.append(accuracy)\n",
        "  print(\"Epoch:{}  Loss:{}  Acciracy:{}%\".format(epoch, train_loss/len(train_loader), accuracy))"
      ],
      "metadata": {
        "colab": {
          "base_uri": "https://localhost:8080/"
        },
        "id": "-PUZMNAbqVho",
        "outputId": "395a84e6-ac07-45b0-ce3f-d3a0279b5a35"
      },
      "execution_count": null,
      "outputs": [
        {
          "output_type": "stream",
          "name": "stdout",
          "text": [
            "Loss in Iteration: 0 : 0.6927366852760315\n",
            "Loss in Iteration: 1 : 0.8313121199607849\n",
            "Loss in Iteration: 2 : 0.6774230599403381\n",
            "Loss in Iteration: 3 : 0.7577914595603943\n",
            "Loss in Iteration: 4 : 0.6948931217193604\n",
            "Loss in Iteration: 5 : 0.6902090907096863\n",
            "Loss in Iteration: 6 : 0.6956904530525208\n",
            "Loss in Iteration: 7 : 0.6877793669700623\n",
            "Loss in Iteration: 8 : 0.687325656414032\n",
            "Loss in Iteration: 9 : 0.6973744034767151\n",
            "Loss in Iteration: 10 : 0.6915191411972046\n",
            "Loss in Iteration: 11 : 0.686689019203186\n",
            "Loss in Iteration: 12 : 0.6965746283531189\n",
            "Loss in Iteration: 13 : 0.6769287586212158\n",
            "Loss in Iteration: 14 : 0.6737024784088135\n",
            "Loss in Iteration: 15 : 0.6754982471466064\n",
            "Loss in Iteration: 16 : 0.7028927206993103\n",
            "Loss in Iteration: 17 : 0.6235804557800293\n",
            "Loss in Iteration: 18 : 0.678848385810852\n",
            "Loss in Iteration: 19 : 0.7503587007522583\n",
            "Loss in Iteration: 20 : 0.6824415922164917\n",
            "Loss in Iteration: 21 : 0.6874995827674866\n",
            "Loss in Iteration: 22 : 0.6944111585617065\n",
            "Loss in Iteration: 23 : 0.6872127652168274\n",
            "Loss in Iteration: 24 : 0.684368908405304\n",
            "Loss in Iteration: 25 : 0.6719613075256348\n",
            "Loss in Iteration: 26 : 0.6743178367614746\n",
            "Loss in Iteration: 27 : 0.6919716000556946\n",
            "Loss in Iteration: 28 : 0.6883165240287781\n",
            "Loss in Iteration: 29 : 0.6521709561347961\n",
            "Loss in Iteration: 30 : 0.6745182275772095\n",
            "Loss in Iteration: 31 : 0.6702277660369873\n",
            "Loss in Iteration: 32 : 0.672977089881897\n",
            "Loss in Iteration: 33 : 0.6420825719833374\n",
            "Loss in Iteration: 34 : 0.6057798862457275\n",
            "Loss in Iteration: 35 : 0.6761927604675293\n",
            "Loss in Iteration: 36 : 0.7174298763275146\n",
            "Loss in Iteration: 37 : 0.6619975566864014\n",
            "Loss in Iteration: 38 : 0.6418827772140503\n",
            "Loss in Iteration: 39 : 0.6583091020584106\n",
            "Loss in Iteration: 40 : 0.672330915927887\n",
            "Loss in Iteration: 41 : 0.6312201023101807\n",
            "Loss in Iteration: 42 : 0.6793293356895447\n",
            "Loss in Iteration: 43 : 0.6588612198829651\n",
            "Loss in Iteration: 44 : 0.6497852802276611\n",
            "Loss in Iteration: 45 : 0.6120302081108093\n",
            "Loss in Iteration: 46 : 0.6599296927452087\n",
            "Loss in Iteration: 47 : 0.6730048060417175\n",
            "Loss in Iteration: 48 : 0.5319216847419739\n",
            "Loss in Iteration: 49 : 0.8361707329750061\n",
            "Loss in Iteration: 50 : 0.5859693884849548\n",
            "Loss in Iteration: 51 : 0.6208091378211975\n",
            "Loss in Iteration: 52 : 0.6199650764465332\n",
            "Loss in Iteration: 53 : 0.7054564952850342\n",
            "Loss in Iteration: 54 : 0.6411755681037903\n",
            "Loss in Iteration: 55 : 0.6373013854026794\n",
            "Loss in Iteration: 56 : 0.6678197979927063\n",
            "Loss in Iteration: 57 : 0.6492754220962524\n",
            "Epoch:0  Loss:0.6747854146464117  Acciracy:73.07274627685547%\n",
            "Loss in Iteration: 0 : 0.57804274559021\n",
            "Loss in Iteration: 1 : 0.6123129725456238\n",
            "Loss in Iteration: 2 : 0.6508176922798157\n",
            "Loss in Iteration: 3 : 0.6362097263336182\n",
            "Loss in Iteration: 4 : 0.5523157119750977\n",
            "Loss in Iteration: 5 : 0.5695749521255493\n",
            "Loss in Iteration: 6 : 0.6616430878639221\n",
            "Loss in Iteration: 7 : 0.6569697856903076\n",
            "Loss in Iteration: 8 : 0.6459428071975708\n",
            "Loss in Iteration: 9 : 0.6198582649230957\n",
            "Loss in Iteration: 10 : 0.6484032869338989\n",
            "Loss in Iteration: 11 : 0.6242905855178833\n",
            "Loss in Iteration: 12 : 0.6730587482452393\n",
            "Loss in Iteration: 13 : 0.589714765548706\n",
            "Loss in Iteration: 14 : 0.6168965697288513\n",
            "Loss in Iteration: 15 : 0.5869772434234619\n",
            "Loss in Iteration: 16 : 0.524007260799408\n",
            "Loss in Iteration: 17 : 0.5291918516159058\n",
            "Loss in Iteration: 18 : 0.6182990670204163\n",
            "Loss in Iteration: 19 : 0.6188324689865112\n",
            "Loss in Iteration: 20 : 0.549268364906311\n",
            "Loss in Iteration: 21 : 0.5586374998092651\n",
            "Loss in Iteration: 22 : 0.6277477145195007\n",
            "Loss in Iteration: 23 : 0.5330750346183777\n",
            "Loss in Iteration: 24 : 0.7458454966545105\n",
            "Loss in Iteration: 25 : 0.6303295493125916\n",
            "Loss in Iteration: 26 : 0.6373187303543091\n",
            "Loss in Iteration: 27 : 0.5417060256004333\n",
            "Loss in Iteration: 28 : 0.6526440978050232\n",
            "Loss in Iteration: 29 : 0.5846195816993713\n",
            "Loss in Iteration: 30 : 0.5624580383300781\n",
            "Loss in Iteration: 31 : 0.5360845923423767\n",
            "Loss in Iteration: 32 : 0.5734099745750427\n",
            "Loss in Iteration: 33 : 0.5552345514297485\n",
            "Loss in Iteration: 34 : 0.45657601952552795\n",
            "Loss in Iteration: 35 : 0.5678850412368774\n",
            "Loss in Iteration: 36 : 0.4295772910118103\n",
            "Loss in Iteration: 37 : 0.4911962151527405\n",
            "Loss in Iteration: 38 : 0.6281839609146118\n",
            "Loss in Iteration: 39 : 0.37517982721328735\n",
            "Loss in Iteration: 40 : 0.51060950756073\n",
            "Loss in Iteration: 41 : 0.6099945902824402\n",
            "Loss in Iteration: 42 : 0.4096009135246277\n",
            "Loss in Iteration: 43 : 0.6074190139770508\n",
            "Loss in Iteration: 44 : 0.5496821999549866\n",
            "Loss in Iteration: 45 : 0.4294992983341217\n",
            "Loss in Iteration: 46 : 0.5300837755203247\n",
            "Loss in Iteration: 47 : 0.5800539255142212\n",
            "Loss in Iteration: 48 : 0.5438504219055176\n",
            "Loss in Iteration: 49 : 0.5414265394210815\n",
            "Loss in Iteration: 50 : 0.5864592790603638\n",
            "Loss in Iteration: 51 : 0.5428091287612915\n",
            "Loss in Iteration: 52 : 0.4979969561100006\n",
            "Loss in Iteration: 53 : 0.5269117951393127\n",
            "Loss in Iteration: 54 : 0.5167373418807983\n",
            "Loss in Iteration: 55 : 0.5572660565376282\n",
            "Loss in Iteration: 56 : 0.4636552929878235\n",
            "Loss in Iteration: 57 : 0.46724733710289\n",
            "Epoch:1  Loss:0.5676144926712431  Acciracy:79.15309143066406%\n",
            "Loss in Iteration: 0 : 0.5642498135566711\n",
            "Loss in Iteration: 1 : 0.4972234070301056\n",
            "Loss in Iteration: 2 : 0.4898398518562317\n",
            "Loss in Iteration: 3 : 0.5461686253547668\n",
            "Loss in Iteration: 4 : 0.4758126437664032\n",
            "Loss in Iteration: 5 : 0.5311872363090515\n",
            "Loss in Iteration: 6 : 0.42539864778518677\n",
            "Loss in Iteration: 7 : 0.6265944242477417\n",
            "Loss in Iteration: 8 : 0.5147837400436401\n",
            "Loss in Iteration: 9 : 0.35669004917144775\n",
            "Loss in Iteration: 10 : 0.5168541669845581\n",
            "Loss in Iteration: 11 : 0.512446939945221\n",
            "Loss in Iteration: 12 : 0.46044862270355225\n",
            "Loss in Iteration: 13 : 0.4346425533294678\n",
            "Loss in Iteration: 14 : 0.3806200623512268\n",
            "Loss in Iteration: 15 : 0.43928804993629456\n",
            "Loss in Iteration: 16 : 0.46987417340278625\n",
            "Loss in Iteration: 17 : 0.39612647891044617\n",
            "Loss in Iteration: 18 : 0.34334641695022583\n",
            "Loss in Iteration: 19 : 0.4080638885498047\n",
            "Loss in Iteration: 20 : 0.4635070860385895\n",
            "Loss in Iteration: 21 : 0.45332521200180054\n",
            "Loss in Iteration: 22 : 0.4418727159500122\n",
            "Loss in Iteration: 23 : 0.4085753560066223\n",
            "Loss in Iteration: 24 : 0.44368603825569153\n",
            "Loss in Iteration: 25 : 0.5237786173820496\n",
            "Loss in Iteration: 26 : 0.47913026809692383\n",
            "Loss in Iteration: 27 : 0.5478275418281555\n",
            "Loss in Iteration: 28 : 0.5209429860115051\n",
            "Loss in Iteration: 29 : 0.3835153877735138\n",
            "Loss in Iteration: 30 : 0.4524232745170593\n",
            "Loss in Iteration: 31 : 0.3281340003013611\n",
            "Loss in Iteration: 32 : 0.5568801164627075\n",
            "Loss in Iteration: 33 : 0.4429163932800293\n",
            "Loss in Iteration: 34 : 0.5774132013320923\n",
            "Loss in Iteration: 35 : 0.3626619577407837\n",
            "Loss in Iteration: 36 : 0.3910444378852844\n",
            "Loss in Iteration: 37 : 0.5050568580627441\n",
            "Loss in Iteration: 38 : 0.3660796284675598\n",
            "Loss in Iteration: 39 : 0.481708288192749\n",
            "Loss in Iteration: 40 : 0.44263756275177\n",
            "Loss in Iteration: 41 : 0.6079599261283875\n",
            "Loss in Iteration: 42 : 0.3304354250431061\n",
            "Loss in Iteration: 43 : 0.5101425647735596\n",
            "Loss in Iteration: 44 : 0.36288708448410034\n",
            "Loss in Iteration: 45 : 0.4667336642742157\n",
            "Loss in Iteration: 46 : 0.42811331152915955\n",
            "Loss in Iteration: 47 : 0.3539000153541565\n",
            "Loss in Iteration: 48 : 0.32639607787132263\n",
            "Loss in Iteration: 49 : 0.402215838432312\n",
            "Loss in Iteration: 50 : 0.4507879614830017\n",
            "Loss in Iteration: 51 : 0.43224799633026123\n",
            "Loss in Iteration: 52 : 0.3682021498680115\n",
            "Loss in Iteration: 53 : 0.38955041766166687\n",
            "Loss in Iteration: 54 : 0.29957276582717896\n",
            "Loss in Iteration: 55 : 0.2763214409351349\n",
            "Loss in Iteration: 56 : 0.4135199189186096\n",
            "Loss in Iteration: 57 : 0.42732715606689453\n",
            "Epoch:2  Loss:0.444984317853533  Acciracy:84.25624084472656%\n",
            "Loss in Iteration: 0 : 0.4440526068210602\n",
            "Loss in Iteration: 1 : 0.47805821895599365\n",
            "Loss in Iteration: 2 : 0.29571667313575745\n",
            "Loss in Iteration: 3 : 0.5932987332344055\n",
            "Loss in Iteration: 4 : 0.4215104281902313\n",
            "Loss in Iteration: 5 : 0.5049002766609192\n",
            "Loss in Iteration: 6 : 0.47178328037261963\n",
            "Loss in Iteration: 7 : 0.4554589092731476\n",
            "Loss in Iteration: 8 : 0.5149778723716736\n",
            "Loss in Iteration: 9 : 0.5239155888557434\n",
            "Loss in Iteration: 10 : 0.4819123446941376\n",
            "Loss in Iteration: 11 : 0.33216798305511475\n",
            "Loss in Iteration: 12 : 0.4278894364833832\n",
            "Loss in Iteration: 13 : 0.42160987854003906\n",
            "Loss in Iteration: 14 : 0.3374657928943634\n",
            "Loss in Iteration: 15 : 0.32919812202453613\n",
            "Loss in Iteration: 16 : 0.39746081829071045\n",
            "Loss in Iteration: 17 : 0.2857244312763214\n",
            "Loss in Iteration: 18 : 0.3740117847919464\n",
            "Loss in Iteration: 19 : 0.5164087414741516\n",
            "Loss in Iteration: 20 : 0.36122429370880127\n",
            "Loss in Iteration: 21 : 0.46354833245277405\n",
            "Loss in Iteration: 22 : 0.3659837245941162\n",
            "Loss in Iteration: 23 : 0.32915687561035156\n",
            "Loss in Iteration: 24 : 0.30062228441238403\n",
            "Loss in Iteration: 25 : 0.31487220525741577\n",
            "Loss in Iteration: 26 : 0.30142608284950256\n",
            "Loss in Iteration: 27 : 0.2993932068347931\n",
            "Loss in Iteration: 28 : 0.3256719410419464\n",
            "Loss in Iteration: 29 : 0.3128644526004791\n",
            "Loss in Iteration: 30 : 0.37679511308670044\n",
            "Loss in Iteration: 31 : 0.43329402804374695\n",
            "Loss in Iteration: 32 : 0.4166879951953888\n",
            "Loss in Iteration: 33 : 0.3033044636249542\n",
            "Loss in Iteration: 34 : 0.40987688302993774\n",
            "Loss in Iteration: 35 : 0.314445823431015\n",
            "Loss in Iteration: 36 : 0.857243537902832\n",
            "Loss in Iteration: 37 : 0.38757720589637756\n",
            "Loss in Iteration: 38 : 0.2951349914073944\n",
            "Loss in Iteration: 39 : 0.347659707069397\n",
            "Loss in Iteration: 40 : 0.4361584484577179\n",
            "Loss in Iteration: 41 : 0.45294487476348877\n",
            "Loss in Iteration: 42 : 0.38811561465263367\n",
            "Loss in Iteration: 43 : 0.39065179228782654\n",
            "Loss in Iteration: 44 : 0.47111546993255615\n",
            "Loss in Iteration: 45 : 0.3378850221633911\n",
            "Loss in Iteration: 46 : 0.45267534255981445\n",
            "Loss in Iteration: 47 : 0.3555834889411926\n",
            "Loss in Iteration: 48 : 0.3916761875152588\n",
            "Loss in Iteration: 49 : 0.32020172476768494\n",
            "Loss in Iteration: 50 : 0.4008411169052124\n",
            "Loss in Iteration: 51 : 0.342489629983902\n",
            "Loss in Iteration: 52 : 0.3797239363193512\n",
            "Loss in Iteration: 53 : 0.3157840669155121\n",
            "Loss in Iteration: 54 : 0.40979984402656555\n",
            "Loss in Iteration: 55 : 0.24567842483520508\n",
            "Loss in Iteration: 56 : 0.3438411355018616\n",
            "Loss in Iteration: 57 : 0.2798480689525604\n",
            "Epoch:3  Loss:0.3937813665332465  Acciracy:83.93051147460938%\n",
            "Loss in Iteration: 0 : 0.33742061257362366\n",
            "Loss in Iteration: 1 : 0.31929436326026917\n",
            "Loss in Iteration: 2 : 0.32386526465415955\n",
            "Loss in Iteration: 3 : 0.40598949790000916\n",
            "Loss in Iteration: 4 : 0.29100897908210754\n",
            "Loss in Iteration: 5 : 0.32823771238327026\n",
            "Loss in Iteration: 6 : 0.5296648740768433\n",
            "Loss in Iteration: 7 : 0.31299322843551636\n",
            "Loss in Iteration: 8 : 0.29023951292037964\n",
            "Loss in Iteration: 9 : 0.35882624983787537\n",
            "Loss in Iteration: 10 : 0.25510603189468384\n",
            "Loss in Iteration: 11 : 0.39215463399887085\n",
            "Loss in Iteration: 12 : 0.5649496912956238\n",
            "Loss in Iteration: 13 : 0.33438414335250854\n",
            "Loss in Iteration: 14 : 0.3286554217338562\n",
            "Loss in Iteration: 15 : 0.35130444169044495\n",
            "Loss in Iteration: 16 : 0.34721338748931885\n",
            "Loss in Iteration: 17 : 0.29015153646469116\n",
            "Loss in Iteration: 18 : 0.24417777359485626\n",
            "Loss in Iteration: 19 : 0.38186419010162354\n",
            "Loss in Iteration: 20 : 0.35476595163345337\n",
            "Loss in Iteration: 21 : 0.34774506092071533\n",
            "Loss in Iteration: 22 : 0.41889357566833496\n",
            "Loss in Iteration: 23 : 0.2286073863506317\n",
            "Loss in Iteration: 24 : 0.49372631311416626\n",
            "Loss in Iteration: 25 : 0.2658817768096924\n",
            "Loss in Iteration: 26 : 0.3775477707386017\n",
            "Loss in Iteration: 27 : 0.26849907636642456\n",
            "Loss in Iteration: 28 : 0.3432805836200714\n",
            "Loss in Iteration: 29 : 0.3112115263938904\n",
            "Loss in Iteration: 30 : 0.3584232032299042\n",
            "Loss in Iteration: 31 : 0.38290154933929443\n",
            "Loss in Iteration: 32 : 0.3924846351146698\n",
            "Loss in Iteration: 33 : 0.3574487864971161\n",
            "Loss in Iteration: 34 : 0.22977250814437866\n",
            "Loss in Iteration: 35 : 0.2719744145870209\n",
            "Loss in Iteration: 36 : 0.23550868034362793\n",
            "Loss in Iteration: 37 : 0.29860609769821167\n",
            "Loss in Iteration: 38 : 0.40497997403144836\n",
            "Loss in Iteration: 39 : 0.23768793046474457\n",
            "Loss in Iteration: 40 : 0.29906612634658813\n",
            "Loss in Iteration: 41 : 0.14663425087928772\n",
            "Loss in Iteration: 42 : 0.22213274240493774\n",
            "Loss in Iteration: 43 : 0.27709531784057617\n",
            "Loss in Iteration: 44 : 0.26820823550224304\n",
            "Loss in Iteration: 45 : 0.24376438558101654\n",
            "Loss in Iteration: 46 : 0.2781941592693329\n",
            "Loss in Iteration: 47 : 0.3082396388053894\n",
            "Loss in Iteration: 48 : 0.5123351812362671\n",
            "Loss in Iteration: 49 : 0.42245545983314514\n",
            "Loss in Iteration: 50 : 0.3537323474884033\n",
            "Loss in Iteration: 51 : 0.2847815752029419\n",
            "Loss in Iteration: 52 : 0.28811150789260864\n",
            "Loss in Iteration: 53 : 0.27576935291290283\n",
            "Loss in Iteration: 54 : 0.42798033356666565\n",
            "Loss in Iteration: 55 : 0.24479414522647858\n",
            "Loss in Iteration: 56 : 0.24939057230949402\n",
            "Loss in Iteration: 57 : 0.2663532793521881\n",
            "Epoch:4  Loss:0.3264911544734034  Acciracy:90.87947845458984%\n",
            "Loss in Iteration: 0 : 0.24128271639347076\n",
            "Loss in Iteration: 1 : 0.253146767616272\n",
            "Loss in Iteration: 2 : 0.22355061769485474\n",
            "Loss in Iteration: 3 : 0.37160152196884155\n",
            "Loss in Iteration: 4 : 0.28050696849823\n",
            "Loss in Iteration: 5 : 0.4373839795589447\n",
            "Loss in Iteration: 6 : 0.31012794375419617\n",
            "Loss in Iteration: 7 : 0.2731802463531494\n",
            "Loss in Iteration: 8 : 0.33797648549079895\n",
            "Loss in Iteration: 9 : 0.2671492397785187\n",
            "Loss in Iteration: 10 : 0.29495516419410706\n",
            "Loss in Iteration: 11 : 0.24827566742897034\n",
            "Loss in Iteration: 12 : 0.28652071952819824\n",
            "Loss in Iteration: 13 : 0.31714969873428345\n",
            "Loss in Iteration: 14 : 0.2180936187505722\n",
            "Loss in Iteration: 15 : 0.35686686635017395\n",
            "Loss in Iteration: 16 : 0.24783273041248322\n",
            "Loss in Iteration: 17 : 0.24875332415103912\n",
            "Loss in Iteration: 18 : 0.30033019185066223\n",
            "Loss in Iteration: 19 : 0.1827464997768402\n",
            "Loss in Iteration: 20 : 0.21533049643039703\n",
            "Loss in Iteration: 21 : 0.2052379846572876\n",
            "Loss in Iteration: 22 : 0.310758501291275\n",
            "Loss in Iteration: 23 : 0.16469213366508484\n",
            "Loss in Iteration: 24 : 0.27145567536354065\n",
            "Loss in Iteration: 25 : 0.29668352007865906\n",
            "Loss in Iteration: 26 : 0.2532216012477875\n",
            "Loss in Iteration: 27 : 0.2383185476064682\n",
            "Loss in Iteration: 28 : 0.37106090784072876\n",
            "Loss in Iteration: 29 : 0.21882739663124084\n",
            "Loss in Iteration: 30 : 0.1838056445121765\n",
            "Loss in Iteration: 31 : 0.2851617634296417\n",
            "Loss in Iteration: 32 : 0.14165472984313965\n",
            "Loss in Iteration: 33 : 0.13993632793426514\n",
            "Loss in Iteration: 34 : 0.2190418541431427\n",
            "Loss in Iteration: 35 : 0.2939651608467102\n",
            "Loss in Iteration: 36 : 0.3497786819934845\n",
            "Loss in Iteration: 37 : 0.2287743091583252\n",
            "Loss in Iteration: 38 : 0.3635396957397461\n",
            "Loss in Iteration: 39 : 0.2789437472820282\n",
            "Loss in Iteration: 40 : 0.3203310966491699\n",
            "Loss in Iteration: 41 : 0.3208867907524109\n",
            "Loss in Iteration: 42 : 0.5181867480278015\n",
            "Loss in Iteration: 43 : 0.3302663266658783\n",
            "Loss in Iteration: 44 : 0.2699120044708252\n",
            "Loss in Iteration: 45 : 0.24558284878730774\n",
            "Loss in Iteration: 46 : 0.2902284860610962\n",
            "Loss in Iteration: 47 : 0.3118959069252014\n",
            "Loss in Iteration: 48 : 0.25529780983924866\n",
            "Loss in Iteration: 49 : 0.25536155700683594\n",
            "Loss in Iteration: 50 : 0.22078578174114227\n",
            "Loss in Iteration: 51 : 0.2286950647830963\n",
            "Loss in Iteration: 52 : 0.20901678502559662\n",
            "Loss in Iteration: 53 : 0.19955602288246155\n",
            "Loss in Iteration: 54 : 0.2189420610666275\n",
            "Loss in Iteration: 55 : 0.19840940833091736\n",
            "Loss in Iteration: 56 : 0.2294955551624298\n",
            "Loss in Iteration: 57 : 0.25903722643852234\n",
            "Epoch:5  Loss:0.26912943325166044  Acciracy:90.55374908447266%\n",
            "Loss in Iteration: 0 : 0.19569502770900726\n",
            "Loss in Iteration: 1 : 0.27610400319099426\n",
            "Loss in Iteration: 2 : 0.3790203034877777\n",
            "Loss in Iteration: 3 : 0.24378900229930878\n",
            "Loss in Iteration: 4 : 0.2550244927406311\n",
            "Loss in Iteration: 5 : 0.2072276771068573\n",
            "Loss in Iteration: 6 : 0.2641271948814392\n",
            "Loss in Iteration: 7 : 0.12585566937923431\n",
            "Loss in Iteration: 8 : 0.3879079520702362\n",
            "Loss in Iteration: 9 : 0.2192157804965973\n",
            "Loss in Iteration: 10 : 0.35684093832969666\n",
            "Loss in Iteration: 11 : 0.3194374144077301\n",
            "Loss in Iteration: 12 : 0.2353370189666748\n",
            "Loss in Iteration: 13 : 0.3247278928756714\n",
            "Loss in Iteration: 14 : 0.2849731147289276\n",
            "Loss in Iteration: 15 : 0.216090127825737\n",
            "Loss in Iteration: 16 : 0.2618115246295929\n",
            "Loss in Iteration: 17 : 0.19354237616062164\n",
            "Loss in Iteration: 18 : 0.15487651526927948\n",
            "Loss in Iteration: 19 : 0.20060668885707855\n",
            "Loss in Iteration: 20 : 0.22647203505039215\n",
            "Loss in Iteration: 21 : 0.27406832575798035\n",
            "Loss in Iteration: 22 : 0.15742778778076172\n",
            "Loss in Iteration: 23 : 0.197542205452919\n",
            "Loss in Iteration: 24 : 0.14832083880901337\n",
            "Loss in Iteration: 25 : 0.2668883502483368\n",
            "Loss in Iteration: 26 : 0.1623256951570511\n",
            "Loss in Iteration: 27 : 0.2164151966571808\n",
            "Loss in Iteration: 28 : 0.14261624217033386\n",
            "Loss in Iteration: 29 : 0.21108293533325195\n",
            "Loss in Iteration: 30 : 0.15298688411712646\n",
            "Loss in Iteration: 31 : 0.22817406058311462\n",
            "Loss in Iteration: 32 : 0.08705080300569534\n",
            "Loss in Iteration: 33 : 0.17523877322673798\n",
            "Loss in Iteration: 34 : 0.2132365107536316\n",
            "Loss in Iteration: 35 : 0.28853198885917664\n",
            "Loss in Iteration: 36 : 0.2141650766134262\n",
            "Loss in Iteration: 37 : 0.1514965444803238\n",
            "Loss in Iteration: 38 : 0.22745093703269958\n",
            "Loss in Iteration: 39 : 0.1959202140569687\n",
            "Loss in Iteration: 40 : 0.3112033009529114\n",
            "Loss in Iteration: 41 : 0.38858094811439514\n",
            "Loss in Iteration: 42 : 0.29116255044937134\n",
            "Loss in Iteration: 43 : 0.24664300680160522\n",
            "Loss in Iteration: 44 : 0.2618340253829956\n",
            "Loss in Iteration: 45 : 0.2511843740940094\n",
            "Loss in Iteration: 46 : 0.2554962933063507\n",
            "Loss in Iteration: 47 : 0.3459340035915375\n",
            "Loss in Iteration: 48 : 0.18497808277606964\n",
            "Loss in Iteration: 49 : 0.23806104063987732\n",
            "Loss in Iteration: 50 : 0.27453380823135376\n",
            "Loss in Iteration: 51 : 0.17527180910110474\n",
            "Loss in Iteration: 52 : 0.25492772459983826\n",
            "Loss in Iteration: 53 : 0.20182126760482788\n",
            "Loss in Iteration: 54 : 0.19281652569770813\n",
            "Loss in Iteration: 55 : 0.12858526408672333\n",
            "Loss in Iteration: 56 : 0.1422027349472046\n",
            "Loss in Iteration: 57 : 0.2933826446533203\n",
            "Epoch:6  Loss:0.23238347457914516  Acciracy:93.81107330322266%\n",
            "Loss in Iteration: 0 : 0.20482879877090454\n",
            "Loss in Iteration: 1 : 0.1321549415588379\n",
            "Loss in Iteration: 2 : 0.206977978348732\n",
            "Loss in Iteration: 3 : 0.16118071973323822\n",
            "Loss in Iteration: 4 : 0.25153934955596924\n",
            "Loss in Iteration: 5 : 0.152277871966362\n",
            "Loss in Iteration: 6 : 0.26122525334358215\n",
            "Loss in Iteration: 7 : 0.23434796929359436\n",
            "Loss in Iteration: 8 : 0.08358540385961533\n",
            "Loss in Iteration: 9 : 0.27299100160598755\n",
            "Loss in Iteration: 10 : 0.1472802311182022\n",
            "Loss in Iteration: 11 : 0.09834467619657516\n",
            "Loss in Iteration: 12 : 0.38598155975341797\n",
            "Loss in Iteration: 13 : 0.24595019221305847\n",
            "Loss in Iteration: 14 : 0.20882892608642578\n",
            "Loss in Iteration: 15 : 0.11565981805324554\n",
            "Loss in Iteration: 16 : 0.14806155860424042\n",
            "Loss in Iteration: 17 : 0.1448875516653061\n",
            "Loss in Iteration: 18 : 0.17427119612693787\n",
            "Loss in Iteration: 19 : 0.15897659957408905\n",
            "Loss in Iteration: 20 : 0.20977848768234253\n",
            "Loss in Iteration: 21 : 0.19962552189826965\n",
            "Loss in Iteration: 22 : 0.3353806436061859\n",
            "Loss in Iteration: 23 : 0.2441975474357605\n",
            "Loss in Iteration: 24 : 0.1835678517818451\n",
            "Loss in Iteration: 25 : 0.13285011053085327\n",
            "Loss in Iteration: 26 : 0.19649578630924225\n",
            "Loss in Iteration: 27 : 0.21281374990940094\n",
            "Loss in Iteration: 28 : 0.15157049894332886\n",
            "Loss in Iteration: 29 : 0.28385940194129944\n",
            "Loss in Iteration: 30 : 0.16231298446655273\n",
            "Loss in Iteration: 31 : 0.17316439747810364\n",
            "Loss in Iteration: 32 : 0.1690228283405304\n",
            "Loss in Iteration: 33 : 0.15865157544612885\n",
            "Loss in Iteration: 34 : 0.24881428480148315\n",
            "Loss in Iteration: 35 : 0.41629597544670105\n",
            "Loss in Iteration: 36 : 0.23485210537910461\n",
            "Loss in Iteration: 37 : 0.11864343285560608\n",
            "Loss in Iteration: 38 : 0.14002400636672974\n",
            "Loss in Iteration: 39 : 0.1668294072151184\n",
            "Loss in Iteration: 40 : 0.06261378526687622\n",
            "Loss in Iteration: 41 : 0.21460887789726257\n",
            "Loss in Iteration: 42 : 0.1852414906024933\n",
            "Loss in Iteration: 43 : 0.14482811093330383\n",
            "Loss in Iteration: 44 : 0.20425046980381012\n",
            "Loss in Iteration: 45 : 0.21777644753456116\n",
            "Loss in Iteration: 46 : 0.24041707813739777\n",
            "Loss in Iteration: 47 : 0.28923875093460083\n",
            "Loss in Iteration: 48 : 0.04340232536196709\n",
            "Loss in Iteration: 49 : 0.04299598187208176\n",
            "Loss in Iteration: 50 : 0.22756390273571014\n",
            "Loss in Iteration: 51 : 0.11556491255760193\n",
            "Loss in Iteration: 52 : 0.16655145585536957\n",
            "Loss in Iteration: 53 : 0.13600659370422363\n",
            "Loss in Iteration: 54 : 0.20959307253360748\n",
            "Loss in Iteration: 55 : 0.23440806567668915\n",
            "Loss in Iteration: 56 : 0.14294134080410004\n",
            "Loss in Iteration: 57 : 0.08267839252948761\n",
            "Epoch:7  Loss:0.1877376422414492  Acciracy:93.81107330322266%\n",
            "Loss in Iteration: 0 : 0.29182207584381104\n",
            "Loss in Iteration: 1 : 0.1524360626935959\n",
            "Loss in Iteration: 2 : 0.09940224140882492\n",
            "Loss in Iteration: 3 : 0.24926401674747467\n",
            "Loss in Iteration: 4 : 0.04897202178835869\n",
            "Loss in Iteration: 5 : 0.21492373943328857\n",
            "Loss in Iteration: 6 : 0.08706629276275635\n",
            "Loss in Iteration: 7 : 0.14408721029758453\n",
            "Loss in Iteration: 8 : 0.22794823348522186\n",
            "Loss in Iteration: 9 : 0.08906854689121246\n",
            "Loss in Iteration: 10 : 0.13953664898872375\n",
            "Loss in Iteration: 11 : 0.10619141906499863\n",
            "Loss in Iteration: 12 : 0.21971876919269562\n",
            "Loss in Iteration: 13 : 0.07912565022706985\n",
            "Loss in Iteration: 14 : 0.2769206166267395\n",
            "Loss in Iteration: 15 : 0.13272306323051453\n",
            "Loss in Iteration: 16 : 0.1883895844221115\n",
            "Loss in Iteration: 17 : 0.2003345936536789\n",
            "Loss in Iteration: 18 : 0.25468239188194275\n",
            "Loss in Iteration: 19 : 0.11497946083545685\n",
            "Loss in Iteration: 20 : 0.16697101294994354\n",
            "Loss in Iteration: 21 : 0.14082230627536774\n",
            "Loss in Iteration: 22 : 0.16468138992786407\n",
            "Loss in Iteration: 23 : 0.14472372829914093\n",
            "Loss in Iteration: 24 : 0.14284145832061768\n",
            "Loss in Iteration: 25 : 0.2097836434841156\n",
            "Loss in Iteration: 26 : 0.12462761998176575\n",
            "Loss in Iteration: 27 : 0.08004162460565567\n",
            "Loss in Iteration: 28 : 0.15377722680568695\n",
            "Loss in Iteration: 29 : 0.14056804776191711\n",
            "Loss in Iteration: 30 : 0.09589723497629166\n",
            "Loss in Iteration: 31 : 0.10871469229459763\n",
            "Loss in Iteration: 32 : 0.19920916855335236\n",
            "Loss in Iteration: 33 : 0.08793766796588898\n",
            "Loss in Iteration: 34 : 0.09001501649618149\n",
            "Loss in Iteration: 35 : 0.2954533100128174\n",
            "Loss in Iteration: 36 : 0.19023968279361725\n",
            "Loss in Iteration: 37 : 0.08884323388338089\n",
            "Loss in Iteration: 38 : 0.1631840169429779\n",
            "Loss in Iteration: 39 : 0.16388393938541412\n",
            "Loss in Iteration: 40 : 0.14660443365573883\n",
            "Loss in Iteration: 41 : 0.14716492593288422\n",
            "Loss in Iteration: 42 : 0.20670044422149658\n",
            "Loss in Iteration: 43 : 0.07544828951358795\n",
            "Loss in Iteration: 44 : 0.14098307490348816\n",
            "Loss in Iteration: 45 : 0.14500898122787476\n",
            "Loss in Iteration: 46 : 0.18099229037761688\n",
            "Loss in Iteration: 47 : 0.1778159886598587\n",
            "Loss in Iteration: 48 : 0.15224045515060425\n",
            "Loss in Iteration: 49 : 0.1560843288898468\n",
            "Loss in Iteration: 50 : 0.3426787853240967\n",
            "Loss in Iteration: 51 : 0.1310264766216278\n",
            "Loss in Iteration: 52 : 0.15269747376441956\n",
            "Loss in Iteration: 53 : 0.14770697057247162\n",
            "Loss in Iteration: 54 : 0.20183634757995605\n",
            "Loss in Iteration: 55 : 0.10370536148548126\n",
            "Loss in Iteration: 56 : 0.13656899333000183\n",
            "Loss in Iteration: 57 : 0.20308810472488403\n",
            "Epoch:8  Loss:0.15893379977807917  Acciracy:95.5483169555664%\n",
            "Loss in Iteration: 0 : 0.10669981688261032\n",
            "Loss in Iteration: 1 : 0.08222154527902603\n",
            "Loss in Iteration: 2 : 0.1459321677684784\n",
            "Loss in Iteration: 3 : 0.11262276023626328\n",
            "Loss in Iteration: 4 : 0.15925827622413635\n",
            "Loss in Iteration: 5 : 0.1721424013376236\n",
            "Loss in Iteration: 6 : 0.14590506255626678\n",
            "Loss in Iteration: 7 : 0.10860256850719452\n",
            "Loss in Iteration: 8 : 0.09211384505033493\n",
            "Loss in Iteration: 9 : 0.10357655584812164\n",
            "Loss in Iteration: 10 : 0.06509426236152649\n",
            "Loss in Iteration: 11 : 0.12864021956920624\n",
            "Loss in Iteration: 12 : 0.19168362021446228\n",
            "Loss in Iteration: 13 : 0.0642741397023201\n",
            "Loss in Iteration: 14 : 0.25756528973579407\n",
            "Loss in Iteration: 15 : 0.20675671100616455\n",
            "Loss in Iteration: 16 : 0.09161832928657532\n",
            "Loss in Iteration: 17 : 0.20577473938465118\n",
            "Loss in Iteration: 18 : 0.12062488496303558\n",
            "Loss in Iteration: 19 : 0.08821161091327667\n",
            "Loss in Iteration: 20 : 0.04101444035768509\n",
            "Loss in Iteration: 21 : 0.10002586245536804\n",
            "Loss in Iteration: 22 : 0.2613987326622009\n",
            "Loss in Iteration: 23 : 0.06973791867494583\n",
            "Loss in Iteration: 24 : 0.08754599839448929\n",
            "Loss in Iteration: 25 : 0.05831709876656532\n",
            "Loss in Iteration: 26 : 0.10719913989305496\n",
            "Loss in Iteration: 27 : 0.09792919456958771\n",
            "Loss in Iteration: 28 : 0.11245614290237427\n",
            "Loss in Iteration: 29 : 0.10349269956350327\n",
            "Loss in Iteration: 30 : 0.049137674272060394\n",
            "Loss in Iteration: 31 : 0.09144366532564163\n",
            "Loss in Iteration: 32 : 0.1546695977449417\n",
            "Loss in Iteration: 33 : 0.12368301302194595\n",
            "Loss in Iteration: 34 : 0.20210275053977966\n",
            "Loss in Iteration: 35 : 0.0908464789390564\n",
            "Loss in Iteration: 36 : 0.19150817394256592\n",
            "Loss in Iteration: 37 : 0.1273755133152008\n",
            "Loss in Iteration: 38 : 0.14797909557819366\n",
            "Loss in Iteration: 39 : 0.22739525139331818\n",
            "Loss in Iteration: 40 : 0.0926598533987999\n",
            "Loss in Iteration: 41 : 0.14971882104873657\n",
            "Loss in Iteration: 42 : 0.0865127295255661\n",
            "Loss in Iteration: 43 : 0.225543811917305\n",
            "Loss in Iteration: 44 : 0.12480583786964417\n",
            "Loss in Iteration: 45 : 0.13662204146385193\n",
            "Loss in Iteration: 46 : 0.2702554762363434\n",
            "Loss in Iteration: 47 : 0.15770891308784485\n",
            "Loss in Iteration: 48 : 0.12416508793830872\n",
            "Loss in Iteration: 49 : 0.20866701006889343\n",
            "Loss in Iteration: 50 : 0.17868202924728394\n",
            "Loss in Iteration: 51 : 0.20312325656414032\n",
            "Loss in Iteration: 52 : 0.07680007070302963\n",
            "Loss in Iteration: 53 : 0.12599140405654907\n",
            "Loss in Iteration: 54 : 0.14010940492153168\n",
            "Loss in Iteration: 55 : 0.2421320080757141\n",
            "Loss in Iteration: 56 : 0.33779987692832947\n",
            "Loss in Iteration: 57 : 0.19129206240177155\n",
            "Epoch:9  Loss:0.14081322318264122  Acciracy:96.30835723876953%\n"
          ]
        }
      ]
    },
    {
      "cell_type": "code",
      "source": [
        "train_loss_list"
      ],
      "metadata": {
        "colab": {
          "base_uri": "https://localhost:8080/"
        },
        "id": "kW-BCQojqVBm",
        "outputId": "5e974a2f-8b70-4347-9e0b-66d84fc5ea9a"
      },
      "execution_count": null,
      "outputs": [
        {
          "output_type": "execute_result",
          "data": {
            "text/plain": [
              "[0.6747854146464117,\n",
              " 0.5676144926712431,\n",
              " 0.444984317853533,\n",
              " 0.3937813665332465,\n",
              " 0.3264911544734034,\n",
              " 0.26912943325166044,\n",
              " 0.23238347457914516,\n",
              " 0.1877376422414492,\n",
              " 0.15893379977807917,\n",
              " 0.14081322318264122]"
            ]
          },
          "metadata": {},
          "execution_count": 40
        }
      ]
    },
    {
      "cell_type": "code",
      "source": [
        "val_loss_list"
      ],
      "metadata": {
        "colab": {
          "base_uri": "https://localhost:8080/"
        },
        "id": "bZe73tpLAVX-",
        "outputId": "4ed61612-5551-407e-9b44-38d622ec5598"
      },
      "execution_count": null,
      "outputs": [
        {
          "output_type": "execute_result",
          "data": {
            "text/plain": [
              "[0.6070284644762675,\n",
              " 0.46723085443178813,\n",
              " 0.3609366854031881,\n",
              " 0.3641016085942586,\n",
              " 0.2640925168991089,\n",
              " 0.23033503592014312,\n",
              " 0.1782901038726171,\n",
              " 0.16362027277549107,\n",
              " 0.1394489491979281,\n",
              " 0.12132417112588882]"
            ]
          },
          "metadata": {},
          "execution_count": 41
        }
      ]
    },
    {
      "cell_type": "code",
      "source": [
        "plt.plot(range(num_epochs), train_loss_list)\n",
        "plt.plot(range(num_epochs), val_loss_list)"
      ],
      "metadata": {
        "colab": {
          "base_uri": "https://localhost:8080/",
          "height": 451
        },
        "id": "NIlO9o45AVUa",
        "outputId": "ea1587db-1d04-484e-c27e-0c1761571f8f"
      },
      "execution_count": null,
      "outputs": [
        {
          "output_type": "execute_result",
          "data": {
            "text/plain": [
              "[<matplotlib.lines.Line2D at 0x7a5ac1bb2f20>]"
            ]
          },
          "metadata": {},
          "execution_count": 43
        },
        {
          "output_type": "display_data",
          "data": {
            "text/plain": [
              "<Figure size 640x480 with 1 Axes>"
            ],
            "image/png": "[encoded data removed]"
          },
          "metadata": {}
        }
      ]
    },
    {
      "cell_type": "code",
      "source": [
        "accuracy_list"
      ],
      "metadata": {
        "colab": {
          "base_uri": "https://localhost:8080/"
        },
        "id": "96bfF-3MAVSB",
        "outputId": "4cddca6a-5cc4-46fd-9451-08a814b8543e"
      },
      "execution_count": null,
      "outputs": [
        {
          "output_type": "execute_result",
          "data": {
            "text/plain": [
              "[tensor(73.0727),\n",
              " tensor(79.1531),\n",
              " tensor(84.2562),\n",
              " tensor(83.9305),\n",
              " tensor(90.8795),\n",
              " tensor(90.5537),\n",
              " tensor(93.8111),\n",
              " tensor(93.8111),\n",
              " tensor(95.5483),\n",
              " tensor(96.3084)]"
            ]
          },
          "metadata": {},
          "execution_count": 44
        }
      ]
    },
    {
      "cell_type": "code",
      "source": [
        "plt.plot(range(num_epochs), accuracy_list)"
      ],
      "metadata": {
        "colab": {
          "base_uri": "https://localhost:8080/",
          "height": 447
        },
        "id": "fC5qM55cAVPA",
        "outputId": "0f9c032e-e00e-4222-d554-bf5b991bd849"
      },
      "execution_count": null,
      "outputs": [
        {
          "output_type": "execute_result",
          "data": {
            "text/plain": [
              "[<matplotlib.lines.Line2D at 0x7a5ac1577760>]"
            ]
          },
          "metadata": {},
          "execution_count": 45
        },
        {
          "output_type": "display_data",
          "data": {
            "text/plain": [
              "<Figure size 640x480 with 1 Axes>"
            ],
            "image/png": "[encoded data removed]"
          },
          "metadata": {}
        }
      ]
    },
    {
      "cell_type": "code",
      "source": [
        "img, label = val_set[500]\n",
        "plt.imshow(img.permute(1,2,0))\n",
        "plt.title(label)"
      ],
      "metadata": {
        "colab": {
          "base_uri": "https://localhost:8080/",
          "height": 487
        },
        "id": "VWJXHC-FAVMV",
        "outputId": "6e3cb146-b65d-4a1c-fd08-4cf8c32fa129"
      },
      "execution_count": null,
      "outputs": [
        {
          "output_type": "stream",
          "name": "stderr",
          "text": [
            "WARNING:matplotlib.image:Clipping input data to the valid range for imshow with RGB data ([0..1] for floats or [0..255] for integers).\n"
          ]
        },
        {
          "output_type": "execute_result",
          "data": {
            "text/plain": [
              "Text(0.5, 1.0, '0')"
            ]
          },
          "metadata": {},
          "execution_count": 52
        },
        {
          "output_type": "display_data",
          "data": {
            "text/plain": [
              "<Figure size 640x480 with 1 Axes>"
            ],
            "image/png": "[encoded data removed]"
          },
          "metadata": {}
        }
      ]
    },
    {
      "cell_type": "code",
      "source": [
        "image = img.unsqueeze(0)\n",
        "\n",
        "with torch.no_grad():\n",
        "  output = model(image)\n",
        "\n",
        "_, pred = torch.max(output, 1)\n",
        "print(\"Predicted Output:\", pred.item())"
      ],
      "metadata": {
        "colab": {
          "base_uri": "https://localhost:8080/"
        },
        "id": "srqjSdoPAVJf",
        "outputId": "1b084528-65c1-4bcf-9141-db13222340f6"
      },
      "execution_count": null,
      "outputs": [
        {
          "output_type": "stream",
          "name": "stdout",
          "text": [
            "Predicted Output: 0\n"
          ]
        }
      ]
    },
    {
      "cell_type": "code",
      "source": [],
      "metadata": {
        "id": "6TruSw0_CUgk"
      },
      "execution_count": null,
      "outputs": []
    },
    {
      "cell_type": "code",
      "source": [],
      "metadata": {
        "id": "nhUI8p1yCUd7"
      },
      "execution_count": null,
      "outputs": []
    },
    {
      "cell_type": "code",
      "source": [],
      "metadata": {
        "id": "FYI6Gd5_CUZ4"
      },
      "execution_count": null,
      "outputs": []
    },
    {
      "cell_type": "code",
      "source": [],
      "metadata": {
        "id": "mVoBJglaCUTx"
      },
      "execution_count": null,
      "outputs": []
    },
    {
      "cell_type": "code",
      "source": [],
      "metadata": {
        "id": "CKGZdFWcCUQj"
      },
      "execution_count": null,
      "outputs": []
    },
    {
      "cell_type": "code",
      "source": [],
      "metadata": {
        "id": "RqWnEZIfAVHI"
      },
      "execution_count": null,
      "outputs": []
    },
    {
      "cell_type": "code",
      "source": [],
      "metadata": {
        "id": "T558z8WLqU-Q"
      },
      "execution_count": null,
      "outputs": []
    },
    {
      "cell_type": "code",
      "execution_count": null,
      "metadata": {
        "id": "Ke5-oPDCW2cP"
      },
      "outputs": [],
      "source": []
    },
    {
      "cell_type": "code",
      "execution_count": null,
      "metadata": {
        "id": "6nHsj5DXW196"
      },
      "outputs": [],
      "source": []
    },
    {
      "cell_type": "code",
      "execution_count": null,
      "metadata": {
        "id": "vpUTiwJDqwyH"
      },
      "outputs": [],
      "source": []
    },
    {
      "cell_type": "code",
      "source": [],
      "metadata": {
        "id": "GvB6Oensv7xe"
      },
      "execution_count": null,
      "outputs": []
    }
  ],
  "metadata": {
    "colab": {
      "collapsed_sections": [
        "9GRqnk1aKC7J",
        "-vi5Xf9GKSDw",
        "zxCy-OE7V9Ze",
        "JEvBUT-GskVR",
        "8SOYdmgvOHo4",
        "Oor1qUGUqzSO",
        "0AAl6e91uL3F",
        "vtu-V0OOgt2f"
      ],
      "provenance": []
    },
    "kernelspec": {
      "display_name": "Python 3",
      "name": "python3"
    },
    "language_info": {
      "name": "python"
    }
  },
  "nbformat": 4,
  "nbformat_minor": 0
}